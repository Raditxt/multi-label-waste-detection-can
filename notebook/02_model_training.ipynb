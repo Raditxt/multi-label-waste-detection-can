{
 "cells": [
  {
   "cell_type": "markdown",
   "metadata": {},
   "source": [
    "Library"
   ]
  },
  {
   "cell_type": "code",
   "execution_count": null,
   "metadata": {},
   "outputs": [],
   "source": [
    "import tensorflow as tf\n",
    "from tensorflow.keras.models import Sequential, Model\n",
    "from tensorflow.keras.layers import Conv2D, MaxPooling2D, Flatten, Dense, Dropout, BatchNormalization, Input\n",
    "from tensorflow.keras.optimizers import Adam\n",
    "# Import metrics baru\n",
    "from tensorflow.keras.metrics import AUC, Precision, Recall, BinaryAccuracy\n",
    "from tensorflow.keras.callbacks import EarlyStopping, ModelCheckpoint\n",
    "from tensorflow.keras.applications import MobileNetV2 # Contoh model pre-trained\n",
    "\n",
    "# Pastikan BASE_DIR_DATASET sudah didefinisikan dari skrip preprocessing atau definisikan ulang\n",
    "# Asumsi notebook berada di 'notebooks/' dan dataset di 'dataset/'\n",
    "import os\n",
    "import numpy as np # Pastikan numpy diimpor\n",
    "from sklearn.model_selection import train_test_split # Pastikan train_test_split diimpor\n",
    "import matplotlib.pyplot as plt # Pastikan matplotlib diimpor\n",
    "\n",
    "BASE_DIR_DATASET = os.path.abspath(os.path.join(os.getcwd(), '..', 'dataset'))\n",
    "IMG_SIZE = (224, 224) # Ukuran gambar target untuk model CNN\n",
    "# Ini adalah definisi LABELS_FINAL yang sama seperti di skrip pembuatan dataset dan preprocessing\n",
    "LABELS_FINAL = ['battery', 'organik', 'glass', 'cardboard', 'metal', 'paper', 'plastic', 'trash']"
   ]
  },
  {
   "cell_type": "markdown",
   "metadata": {},
   "source": [
    "Load Data"
   ]
  },
  {
   "cell_type": "code",
   "execution_count": null,
   "metadata": {},
   "outputs": [],
   "source": [
    "print(\"\\n--- 7. Memuat Data yang Sudah Diproses (NumPy Arrays) ---\")\n",
    "try:\n",
    "    X = np.load(os.path.join(BASE_DIR_DATASET, 'X_data.npy'))\n",
    "    Y = np.load(os.path.join(BASE_DIR_DATASET, 'Y_labels.npy'))\n",
    "    print(f\"Data X.npy dimuat dengan bentuk: {X.shape}\")\n",
    "    print(f\"Data Y.npy dimuat dengan bentuk: {Y.shape}\")\n",
    "except FileNotFoundError:\n",
    "    print(f\"Error: File X_data.npy atau Y_labels.npy tidak ditemukan di {BASE_DIR_DATASET}.\")\n",
    "    print(\"Pastikan Anda sudah menjalankan bagian Preprocessing dan konversi NumPy array.\")\n",
    "    exit()"
   ]
  },
  {
   "cell_type": "markdown",
   "metadata": {},
   "source": [
    "Split Data Train/Validation/Test"
   ]
  },
  {
   "cell_type": "code",
   "execution_count": null,
   "metadata": {},
   "outputs": [],
   "source": [
    "print(\"\\n--- 8. Membagi Data menjadi Train, Validation, dan Test Set ---\")\n",
    "# Split awal untuk train + val vs test\n",
    "X_train_val, X_test, y_train_val, y_test = train_test_split(X, Y, test_size=0.15, random_state=42, shuffle=True) # 15% untuk test\n",
    "# Split train_val menjadi train dan val\n",
    "X_train, X_val, y_train, y_val = train_test_split(X_train_val, y_train_val, test_size=0.2, random_state=42, shuffle=True) # 20% dari sisanya untuk validasi\n",
    "\n",
    "print(f\"Bentuk data pelatihan (X_train, y_train): {X_train.shape}, {y_train.shape}\")\n",
    "print(f\"Bentuk data validasi (X_val, y_val): {X_val.shape}, {y_val.shape}\")\n",
    "print(f\"Bentuk data uji (X_test, y_test): {X_test.shape}, {y_test.shape}\")\n"
   ]
  },
  {
   "cell_type": "markdown",
   "metadata": {},
   "source": [
    "Arsitektur Model"
   ]
  },
  {
   "cell_type": "code",
   "execution_count": null,
   "metadata": {},
   "outputs": [],
   "source": [
    "print(\"\\n--- 9. Mendefinisikan Arsitektur Model ---\")\n",
    "\n",
    "# Opsi 1: Model CNN Kustom Anda (dengan penambahan BatchNormalization & Augmentasi)\n",
    "def build_custom_cnn_model(input_shape, num_classes):\n",
    "    model = Sequential([\n",
    "        # Augmentasi Data (On-the-fly) - Ditempatkan di awal model\n",
    "        # Ini adalah cara yang efisien untuk augmentasi pada GPU\n",
    "        tf.keras.layers.RandomFlip(\"horizontal_and_vertical\", input_shape=input_shape),\n",
    "        tf.keras.layers.RandomRotation(0.1), # Rotasi +- 10% dari 360 derajat\n",
    "        tf.keras.layers.RandomZoom(0.1),    # Zoom in/out +- 10%\n",
    "\n",
    "        Conv2D(32, (3,3), activation='relu'), # input_shape tidak perlu lagi di sini karena sudah di RandomFlip\n",
    "        BatchNormalization(),\n",
    "        MaxPooling2D(2,2),\n",
    "        \n",
    "        Conv2D(64, (3,3), activation='relu'),\n",
    "        BatchNormalization(),\n",
    "        MaxPooling2D(2,2),\n",
    "        \n",
    "        Conv2D(128, (3,3), activation='relu'),\n",
    "        BatchNormalization(),\n",
    "        MaxPooling2D(2,2),\n",
    "        \n",
    "        Flatten(),\n",
    "        Dropout(0.5),\n",
    "        Dense(128, activation='relu'),\n",
    "        Dense(num_classes, activation='sigmoid') # sigmoid untuk multi-label\n",
    "    ])\n",
    "    return model\n",
    "\n",
    "# Opsi 2: Menggunakan Model Pre-trained (Contoh: MobileNetV2)\n",
    "def build_transfer_learning_model(input_shape, num_classes, include_augmentation=True):\n",
    "    # Base model pre-trained\n",
    "    base_model = MobileNetV2(input_shape=input_shape,\n",
    "                             include_top=False,\n",
    "                             weights='imagenet')\n",
    "    base_model.trainable = False # Bekukan base model awalnya\n",
    "\n",
    "    inputs = Input(shape=input_shape)\n",
    "    \n",
    "    # Tambahkan lapisan augmentasi di sini jika diinginkan\n",
    "    if include_augmentation:\n",
    "        x = tf.keras.layers.RandomFlip(\"horizontal_and_vertical\")(inputs)\n",
    "        x = tf.keras.layers.RandomRotation(0.1)(x)\n",
    "        x = tf.keras.layers.RandomZoom(0.1)(x)\n",
    "    else:\n",
    "        x = inputs\n",
    "\n",
    "    x = base_model(x, training=False) # Pastikan base model berjalan dalam inference mode saat dibekukan\n",
    "    x = tf.keras.layers.GlobalAveragePooling2D()(x)\n",
    "    x = Dropout(0.5)(x)\n",
    "    outputs = Dense(num_classes, activation='sigmoid')(x)\n",
    "\n",
    "    model = Model(inputs, outputs)\n",
    "    return model\n",
    "\n",
    "# Pilih model yang akan digunakan\n",
    "# Jika ingin menggunakan augmentasi pada custom CNN:\n",
    "# model = build_custom_cnn_model(input_shape=(IMG_SIZE[0], IMG_SIZE[1], 3), num_classes=len(LABELS_FINAL))\n",
    "\n",
    "# Jika ingin menggunakan MobileNetV2 dengan augmentasi:\n",
    "model = build_transfer_learning_model(input_shape=(IMG_SIZE[0], IMG_SIZE[1], 3), num_classes=len(LABELS_FINAL), include_augmentation=True)\n",
    "\n",
    "model.summary()"
   ]
  },
  {
   "cell_type": "markdown",
   "metadata": {},
   "source": []
  }
 ],
 "metadata": {
  "kernelspec": {
   "display_name": "venv_ai_clean",
   "language": "python",
   "name": "python3"
  },
  "language_info": {
   "name": "python",
   "version": "3.11.0"
  }
 },
 "nbformat": 4,
 "nbformat_minor": 2
}
