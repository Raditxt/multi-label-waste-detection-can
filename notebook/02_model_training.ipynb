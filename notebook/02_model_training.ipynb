{
 "cells": [
  {
   "cell_type": "markdown",
   "metadata": {},
   "source": [
    "Library"
   ]
  },
  {
   "cell_type": "code",
   "execution_count": 1,
   "metadata": {},
   "outputs": [],
   "source": [
    "import tensorflow as tf\n",
    "from tensorflow.keras.models import Sequential, Model\n",
    "from tensorflow.keras.layers import Conv2D, MaxPooling2D, Flatten, Dense, Dropout, BatchNormalization, Input\n",
    "from tensorflow.keras.optimizers import Adam\n",
    "# Import metrics baru\n",
    "from tensorflow.keras.metrics import AUC, Precision, Recall, BinaryAccuracy\n",
    "from tensorflow.keras.callbacks import EarlyStopping, ModelCheckpoint\n",
    "from tensorflow.keras.applications import MobileNetV2 # Contoh model pre-trained\n",
    "\n",
    "# Pastikan BASE_DIR_DATASET sudah didefinisikan dari skrip preprocessing atau definisikan ulang\n",
    "# Asumsi notebook berada di 'notebooks/' dan dataset di 'dataset/'\n",
    "import os\n",
    "import numpy as np # Pastikan numpy diimpor\n",
    "from sklearn.model_selection import train_test_split # Pastikan train_test_split diimpor\n",
    "import matplotlib.pyplot as plt # Pastikan matplotlib diimpor\n",
    "\n",
    "BASE_DIR_DATASET = os.path.abspath(os.path.join(os.getcwd(), '..', 'dataset'))\n",
    "IMG_SIZE = (224, 224) # Ukuran gambar target untuk model CNN\n",
    "# Ini adalah definisi LABELS_FINAL yang sama seperti di skrip pembuatan dataset dan preprocessing\n",
    "LABELS_FINAL = ['battery', 'organik', 'glass', 'cardboard', 'metal', 'paper', 'plastic', 'trash']"
   ]
  },
  {
   "cell_type": "markdown",
   "metadata": {},
   "source": [
    "Load Data"
   ]
  },
  {
   "cell_type": "code",
   "execution_count": 2,
   "metadata": {},
   "outputs": [
    {
     "name": "stdout",
     "output_type": "stream",
     "text": [
      "\n",
      "--- 7. Memuat Data yang Sudah Diproses (NumPy Arrays) ---\n",
      "Data X.npy dimuat dengan bentuk: (4992, 224, 224, 3)\n",
      "Data Y.npy dimuat dengan bentuk: (4992, 8)\n"
     ]
    }
   ],
   "source": [
    "print(\"\\n--- 7. Memuat Data yang Sudah Diproses (NumPy Arrays) ---\")\n",
    "try:\n",
    "    X = np.load(os.path.join(BASE_DIR_DATASET, 'X_data.npy'))\n",
    "    Y = np.load(os.path.join(BASE_DIR_DATASET, 'Y_labels.npy'))\n",
    "    print(f\"Data X.npy dimuat dengan bentuk: {X.shape}\")\n",
    "    print(f\"Data Y.npy dimuat dengan bentuk: {Y.shape}\")\n",
    "except FileNotFoundError:\n",
    "    print(f\"Error: File X_data.npy atau Y_labels.npy tidak ditemukan di {BASE_DIR_DATASET}.\")\n",
    "    print(\"Pastikan Anda sudah menjalankan bagian Preprocessing dan konversi NumPy array.\")\n",
    "    exit()"
   ]
  },
  {
   "cell_type": "markdown",
   "metadata": {},
   "source": [
    "Split Data Train/Validation/Test"
   ]
  },
  {
   "cell_type": "code",
   "execution_count": 3,
   "metadata": {},
   "outputs": [
    {
     "name": "stdout",
     "output_type": "stream",
     "text": [
      "\n",
      "--- 8. Membagi Data menjadi Train, Validation, dan Test Set ---\n",
      "Bentuk data pelatihan (X_train, y_train): (3394, 224, 224, 3), (3394, 8)\n",
      "Bentuk data validasi (X_val, y_val): (849, 224, 224, 3), (849, 8)\n",
      "Bentuk data uji (X_test, y_test): (749, 224, 224, 3), (749, 8)\n"
     ]
    }
   ],
   "source": [
    "print(\"\\n--- 8. Membagi Data menjadi Train, Validation, dan Test Set ---\")\n",
    "# Split awal untuk train + val vs test\n",
    "X_train_val, X_test, y_train_val, y_test = train_test_split(X, Y, test_size=0.15, random_state=42, shuffle=True) # 15% untuk test\n",
    "# Split train_val menjadi train dan val\n",
    "X_train, X_val, y_train, y_val = train_test_split(X_train_val, y_train_val, test_size=0.2, random_state=42, shuffle=True) # 20% dari sisanya untuk validasi\n",
    "\n",
    "print(f\"Bentuk data pelatihan (X_train, y_train): {X_train.shape}, {y_train.shape}\")\n",
    "print(f\"Bentuk data validasi (X_val, y_val): {X_val.shape}, {y_val.shape}\")\n",
    "print(f\"Bentuk data uji (X_test, y_test): {X_test.shape}, {y_test.shape}\")\n"
   ]
  },
  {
   "cell_type": "markdown",
   "metadata": {},
   "source": [
    "Arsitektur Model"
   ]
  },
  {
   "cell_type": "code",
   "execution_count": 4,
   "metadata": {},
   "outputs": [
    {
     "name": "stdout",
     "output_type": "stream",
     "text": [
      "\n",
      "--- 9. Mendefinisikan Arsitektur Model ---\n",
      "Downloading data from https://storage.googleapis.com/tensorflow/keras-applications/mobilenet_v2/mobilenet_v2_weights_tf_dim_ordering_tf_kernels_1.0_224_no_top.h5\n",
      "\u001b[1m9406464/9406464\u001b[0m \u001b[32m━━━━━━━━━━━━━━━━━━━━\u001b[0m\u001b[37m\u001b[0m \u001b[1m2s\u001b[0m 0us/step\n"
     ]
    },
    {
     "data": {
      "text/html": [
       "<pre style=\"white-space:pre;overflow-x:auto;line-height:normal;font-family:Menlo,'DejaVu Sans Mono',consolas,'Courier New',monospace\"><span style=\"font-weight: bold\">Model: \"functional\"</span>\n",
       "</pre>\n"
      ],
      "text/plain": [
       "\u001b[1mModel: \"functional\"\u001b[0m\n"
      ]
     },
     "metadata": {},
     "output_type": "display_data"
    },
    {
     "data": {
      "text/html": [
       "<pre style=\"white-space:pre;overflow-x:auto;line-height:normal;font-family:Menlo,'DejaVu Sans Mono',consolas,'Courier New',monospace\">┏━━━━━━━━━━━━━━━━━━━━━━━━━━━━━━━━━┳━━━━━━━━━━━━━━━━━━━━━━━━┳━━━━━━━━━━━━━━━┓\n",
       "┃<span style=\"font-weight: bold\"> Layer (type)                    </span>┃<span style=\"font-weight: bold\"> Output Shape           </span>┃<span style=\"font-weight: bold\">       Param # </span>┃\n",
       "┡━━━━━━━━━━━━━━━━━━━━━━━━━━━━━━━━━╇━━━━━━━━━━━━━━━━━━━━━━━━╇━━━━━━━━━━━━━━━┩\n",
       "│ input_layer_1 (<span style=\"color: #0087ff; text-decoration-color: #0087ff\">InputLayer</span>)      │ (<span style=\"color: #00d7ff; text-decoration-color: #00d7ff\">None</span>, <span style=\"color: #00af00; text-decoration-color: #00af00\">224</span>, <span style=\"color: #00af00; text-decoration-color: #00af00\">224</span>, <span style=\"color: #00af00; text-decoration-color: #00af00\">3</span>)    │             <span style=\"color: #00af00; text-decoration-color: #00af00\">0</span> │\n",
       "├─────────────────────────────────┼────────────────────────┼───────────────┤\n",
       "│ random_flip (<span style=\"color: #0087ff; text-decoration-color: #0087ff\">RandomFlip</span>)        │ (<span style=\"color: #00d7ff; text-decoration-color: #00d7ff\">None</span>, <span style=\"color: #00af00; text-decoration-color: #00af00\">224</span>, <span style=\"color: #00af00; text-decoration-color: #00af00\">224</span>, <span style=\"color: #00af00; text-decoration-color: #00af00\">3</span>)    │             <span style=\"color: #00af00; text-decoration-color: #00af00\">0</span> │\n",
       "├─────────────────────────────────┼────────────────────────┼───────────────┤\n",
       "│ random_rotation                 │ (<span style=\"color: #00d7ff; text-decoration-color: #00d7ff\">None</span>, <span style=\"color: #00af00; text-decoration-color: #00af00\">224</span>, <span style=\"color: #00af00; text-decoration-color: #00af00\">224</span>, <span style=\"color: #00af00; text-decoration-color: #00af00\">3</span>)    │             <span style=\"color: #00af00; text-decoration-color: #00af00\">0</span> │\n",
       "│ (<span style=\"color: #0087ff; text-decoration-color: #0087ff\">RandomRotation</span>)                │                        │               │\n",
       "├─────────────────────────────────┼────────────────────────┼───────────────┤\n",
       "│ random_zoom (<span style=\"color: #0087ff; text-decoration-color: #0087ff\">RandomZoom</span>)        │ (<span style=\"color: #00d7ff; text-decoration-color: #00d7ff\">None</span>, <span style=\"color: #00af00; text-decoration-color: #00af00\">224</span>, <span style=\"color: #00af00; text-decoration-color: #00af00\">224</span>, <span style=\"color: #00af00; text-decoration-color: #00af00\">3</span>)    │             <span style=\"color: #00af00; text-decoration-color: #00af00\">0</span> │\n",
       "├─────────────────────────────────┼────────────────────────┼───────────────┤\n",
       "│ mobilenetv2_1.00_224            │ (<span style=\"color: #00d7ff; text-decoration-color: #00d7ff\">None</span>, <span style=\"color: #00af00; text-decoration-color: #00af00\">7</span>, <span style=\"color: #00af00; text-decoration-color: #00af00\">7</span>, <span style=\"color: #00af00; text-decoration-color: #00af00\">1280</span>)     │     <span style=\"color: #00af00; text-decoration-color: #00af00\">2,257,984</span> │\n",
       "│ (<span style=\"color: #0087ff; text-decoration-color: #0087ff\">Functional</span>)                    │                        │               │\n",
       "├─────────────────────────────────┼────────────────────────┼───────────────┤\n",
       "│ global_average_pooling2d        │ (<span style=\"color: #00d7ff; text-decoration-color: #00d7ff\">None</span>, <span style=\"color: #00af00; text-decoration-color: #00af00\">1280</span>)           │             <span style=\"color: #00af00; text-decoration-color: #00af00\">0</span> │\n",
       "│ (<span style=\"color: #0087ff; text-decoration-color: #0087ff\">GlobalAveragePooling2D</span>)        │                        │               │\n",
       "├─────────────────────────────────┼────────────────────────┼───────────────┤\n",
       "│ dropout (<span style=\"color: #0087ff; text-decoration-color: #0087ff\">Dropout</span>)               │ (<span style=\"color: #00d7ff; text-decoration-color: #00d7ff\">None</span>, <span style=\"color: #00af00; text-decoration-color: #00af00\">1280</span>)           │             <span style=\"color: #00af00; text-decoration-color: #00af00\">0</span> │\n",
       "├─────────────────────────────────┼────────────────────────┼───────────────┤\n",
       "│ dense (<span style=\"color: #0087ff; text-decoration-color: #0087ff\">Dense</span>)                   │ (<span style=\"color: #00d7ff; text-decoration-color: #00d7ff\">None</span>, <span style=\"color: #00af00; text-decoration-color: #00af00\">8</span>)              │        <span style=\"color: #00af00; text-decoration-color: #00af00\">10,248</span> │\n",
       "└─────────────────────────────────┴────────────────────────┴───────────────┘\n",
       "</pre>\n"
      ],
      "text/plain": [
       "┏━━━━━━━━━━━━━━━━━━━━━━━━━━━━━━━━━┳━━━━━━━━━━━━━━━━━━━━━━━━┳━━━━━━━━━━━━━━━┓\n",
       "┃\u001b[1m \u001b[0m\u001b[1mLayer (type)                   \u001b[0m\u001b[1m \u001b[0m┃\u001b[1m \u001b[0m\u001b[1mOutput Shape          \u001b[0m\u001b[1m \u001b[0m┃\u001b[1m \u001b[0m\u001b[1m      Param #\u001b[0m\u001b[1m \u001b[0m┃\n",
       "┡━━━━━━━━━━━━━━━━━━━━━━━━━━━━━━━━━╇━━━━━━━━━━━━━━━━━━━━━━━━╇━━━━━━━━━━━━━━━┩\n",
       "│ input_layer_1 (\u001b[38;5;33mInputLayer\u001b[0m)      │ (\u001b[38;5;45mNone\u001b[0m, \u001b[38;5;34m224\u001b[0m, \u001b[38;5;34m224\u001b[0m, \u001b[38;5;34m3\u001b[0m)    │             \u001b[38;5;34m0\u001b[0m │\n",
       "├─────────────────────────────────┼────────────────────────┼───────────────┤\n",
       "│ random_flip (\u001b[38;5;33mRandomFlip\u001b[0m)        │ (\u001b[38;5;45mNone\u001b[0m, \u001b[38;5;34m224\u001b[0m, \u001b[38;5;34m224\u001b[0m, \u001b[38;5;34m3\u001b[0m)    │             \u001b[38;5;34m0\u001b[0m │\n",
       "├─────────────────────────────────┼────────────────────────┼───────────────┤\n",
       "│ random_rotation                 │ (\u001b[38;5;45mNone\u001b[0m, \u001b[38;5;34m224\u001b[0m, \u001b[38;5;34m224\u001b[0m, \u001b[38;5;34m3\u001b[0m)    │             \u001b[38;5;34m0\u001b[0m │\n",
       "│ (\u001b[38;5;33mRandomRotation\u001b[0m)                │                        │               │\n",
       "├─────────────────────────────────┼────────────────────────┼───────────────┤\n",
       "│ random_zoom (\u001b[38;5;33mRandomZoom\u001b[0m)        │ (\u001b[38;5;45mNone\u001b[0m, \u001b[38;5;34m224\u001b[0m, \u001b[38;5;34m224\u001b[0m, \u001b[38;5;34m3\u001b[0m)    │             \u001b[38;5;34m0\u001b[0m │\n",
       "├─────────────────────────────────┼────────────────────────┼───────────────┤\n",
       "│ mobilenetv2_1.00_224            │ (\u001b[38;5;45mNone\u001b[0m, \u001b[38;5;34m7\u001b[0m, \u001b[38;5;34m7\u001b[0m, \u001b[38;5;34m1280\u001b[0m)     │     \u001b[38;5;34m2,257,984\u001b[0m │\n",
       "│ (\u001b[38;5;33mFunctional\u001b[0m)                    │                        │               │\n",
       "├─────────────────────────────────┼────────────────────────┼───────────────┤\n",
       "│ global_average_pooling2d        │ (\u001b[38;5;45mNone\u001b[0m, \u001b[38;5;34m1280\u001b[0m)           │             \u001b[38;5;34m0\u001b[0m │\n",
       "│ (\u001b[38;5;33mGlobalAveragePooling2D\u001b[0m)        │                        │               │\n",
       "├─────────────────────────────────┼────────────────────────┼───────────────┤\n",
       "│ dropout (\u001b[38;5;33mDropout\u001b[0m)               │ (\u001b[38;5;45mNone\u001b[0m, \u001b[38;5;34m1280\u001b[0m)           │             \u001b[38;5;34m0\u001b[0m │\n",
       "├─────────────────────────────────┼────────────────────────┼───────────────┤\n",
       "│ dense (\u001b[38;5;33mDense\u001b[0m)                   │ (\u001b[38;5;45mNone\u001b[0m, \u001b[38;5;34m8\u001b[0m)              │        \u001b[38;5;34m10,248\u001b[0m │\n",
       "└─────────────────────────────────┴────────────────────────┴───────────────┘\n"
      ]
     },
     "metadata": {},
     "output_type": "display_data"
    },
    {
     "data": {
      "text/html": [
       "<pre style=\"white-space:pre;overflow-x:auto;line-height:normal;font-family:Menlo,'DejaVu Sans Mono',consolas,'Courier New',monospace\"><span style=\"font-weight: bold\"> Total params: </span><span style=\"color: #00af00; text-decoration-color: #00af00\">2,268,232</span> (8.65 MB)\n",
       "</pre>\n"
      ],
      "text/plain": [
       "\u001b[1m Total params: \u001b[0m\u001b[38;5;34m2,268,232\u001b[0m (8.65 MB)\n"
      ]
     },
     "metadata": {},
     "output_type": "display_data"
    },
    {
     "data": {
      "text/html": [
       "<pre style=\"white-space:pre;overflow-x:auto;line-height:normal;font-family:Menlo,'DejaVu Sans Mono',consolas,'Courier New',monospace\"><span style=\"font-weight: bold\"> Trainable params: </span><span style=\"color: #00af00; text-decoration-color: #00af00\">10,248</span> (40.03 KB)\n",
       "</pre>\n"
      ],
      "text/plain": [
       "\u001b[1m Trainable params: \u001b[0m\u001b[38;5;34m10,248\u001b[0m (40.03 KB)\n"
      ]
     },
     "metadata": {},
     "output_type": "display_data"
    },
    {
     "data": {
      "text/html": [
       "<pre style=\"white-space:pre;overflow-x:auto;line-height:normal;font-family:Menlo,'DejaVu Sans Mono',consolas,'Courier New',monospace\"><span style=\"font-weight: bold\"> Non-trainable params: </span><span style=\"color: #00af00; text-decoration-color: #00af00\">2,257,984</span> (8.61 MB)\n",
       "</pre>\n"
      ],
      "text/plain": [
       "\u001b[1m Non-trainable params: \u001b[0m\u001b[38;5;34m2,257,984\u001b[0m (8.61 MB)\n"
      ]
     },
     "metadata": {},
     "output_type": "display_data"
    }
   ],
   "source": [
    "print(\"\\n--- 9. Mendefinisikan Arsitektur Model ---\")\n",
    "\n",
    "# Opsi 1: Model CNN Kustom Anda (dengan penambahan BatchNormalization & Augmentasi)\n",
    "def build_custom_cnn_model(input_shape, num_classes):\n",
    "    model = Sequential([\n",
    "        # Augmentasi Data (On-the-fly) - Ditempatkan di awal model\n",
    "        # Ini adalah cara yang efisien untuk augmentasi pada GPU\n",
    "        tf.keras.layers.RandomFlip(\"horizontal_and_vertical\", input_shape=input_shape),\n",
    "        tf.keras.layers.RandomRotation(0.1), # Rotasi +- 10% dari 360 derajat\n",
    "        tf.keras.layers.RandomZoom(0.1),    # Zoom in/out +- 10%\n",
    "\n",
    "        Conv2D(32, (3,3), activation='relu'), # input_shape tidak perlu lagi di sini karena sudah di RandomFlip\n",
    "        BatchNormalization(),\n",
    "        MaxPooling2D(2,2),\n",
    "        \n",
    "        Conv2D(64, (3,3), activation='relu'),\n",
    "        BatchNormalization(),\n",
    "        MaxPooling2D(2,2),\n",
    "        \n",
    "        Conv2D(128, (3,3), activation='relu'),\n",
    "        BatchNormalization(),\n",
    "        MaxPooling2D(2,2),\n",
    "        \n",
    "        Flatten(),\n",
    "        Dropout(0.5),\n",
    "        Dense(128, activation='relu'),\n",
    "        Dense(num_classes, activation='sigmoid') # sigmoid untuk multi-label\n",
    "    ])\n",
    "    return model\n",
    "\n",
    "# Opsi 2: Menggunakan Model Pre-trained (Contoh: MobileNetV2)\n",
    "def build_transfer_learning_model(input_shape, num_classes, include_augmentation=True):\n",
    "    # Base model pre-trained\n",
    "    base_model = MobileNetV2(input_shape=input_shape,\n",
    "                             include_top=False,\n",
    "                             weights='imagenet')\n",
    "    base_model.trainable = False # Bekukan base model awalnya\n",
    "\n",
    "    inputs = Input(shape=input_shape)\n",
    "    \n",
    "    # Tambahkan lapisan augmentasi di sini jika diinginkan\n",
    "    if include_augmentation:\n",
    "        x = tf.keras.layers.RandomFlip(\"horizontal_and_vertical\")(inputs)\n",
    "        x = tf.keras.layers.RandomRotation(0.1)(x)\n",
    "        x = tf.keras.layers.RandomZoom(0.1)(x)\n",
    "    else:\n",
    "        x = inputs\n",
    "\n",
    "    x = base_model(x, training=False) # Pastikan base model berjalan dalam inference mode saat dibekukan\n",
    "    x = tf.keras.layers.GlobalAveragePooling2D()(x)\n",
    "    x = Dropout(0.5)(x)\n",
    "    outputs = Dense(num_classes, activation='sigmoid')(x)\n",
    "\n",
    "    model = Model(inputs, outputs)\n",
    "    return model\n",
    "\n",
    "# Pilih model yang akan digunakan\n",
    "# Jika ingin menggunakan augmentasi pada custom CNN:\n",
    "# model = build_custom_cnn_model(input_shape=(IMG_SIZE[0], IMG_SIZE[1], 3), num_classes=len(LABELS_FINAL))\n",
    "\n",
    "# Jika ingin menggunakan MobileNetV2 dengan augmentasi:\n",
    "model = build_transfer_learning_model(input_shape=(IMG_SIZE[0], IMG_SIZE[1], 3), num_classes=len(LABELS_FINAL), include_augmentation=True)\n",
    "\n",
    "model.summary()"
   ]
  },
  {
   "cell_type": "markdown",
   "metadata": {},
   "source": [
    "Compile Model"
   ]
  },
  {
   "cell_type": "code",
   "execution_count": 5,
   "metadata": {},
   "outputs": [
    {
     "name": "stdout",
     "output_type": "stream",
     "text": [
      "\n",
      "--- 10. Mengompilasi Model ---\n"
     ]
    }
   ],
   "source": [
    "# --- 10. Kompilasi Model ---\n",
    "print(\"\\n--- 10. Mengompilasi Model ---\")\n",
    "model.compile(optimizer=Adam(learning_rate=1e-4),\n",
    "              loss='binary_crossentropy',\n",
    "              metrics=[\n",
    "                  BinaryAccuracy(name='binary_accuracy'), # Lebih tepat dari 'accuracy' biasa\n",
    "                  Precision(name='precision'),\n",
    "                  Recall(name='recall'),\n",
    "                  AUC(name='auc') # Area Under the ROC Curve\n",
    "              ])"
   ]
  },
  {
   "cell_type": "markdown",
   "metadata": {},
   "source": [
    "Callback"
   ]
  },
  {
   "cell_type": "code",
   "execution_count": 6,
   "metadata": {},
   "outputs": [
    {
     "name": "stdout",
     "output_type": "stream",
     "text": [
      "\n",
      "--- 11. Mengatur Callbacks ---\n",
      "Model terbaik akan disimpan di: d:\\Kuroya\\Kuliah\\sampah-multilabel-ai\\dataset\\checkpoints\\best_model.h5\n"
     ]
    }
   ],
   "source": [
    "# --- 11. Callbacks ---\n",
    "print(\"\\n--- 11. Mengatur Callbacks ---\")\n",
    "checkpoint_dir = os.path.join(BASE_DIR_DATASET, 'checkpoints')\n",
    "os.makedirs(checkpoint_dir, exist_ok=True)\n",
    "checkpoint_path = os.path.join(checkpoint_dir, 'best_model.h5')\n",
    "\n",
    "callbacks = [\n",
    "    EarlyStopping(patience=10, restore_best_weights=True, monitor='val_loss', mode='min'),\n",
    "    ModelCheckpoint(checkpoint_path, save_best_only=True, monitor='val_loss', mode='min', verbose=1)\n",
    "]\n",
    "print(f\"Model terbaik akan disimpan di: {checkpoint_path}\")\n"
   ]
  },
  {
   "cell_type": "markdown",
   "metadata": {},
   "source": [
    "Training Model"
   ]
  },
  {
   "cell_type": "code",
   "execution_count": 7,
   "metadata": {},
   "outputs": [
    {
     "name": "stdout",
     "output_type": "stream",
     "text": [
      "\n",
      "--- 12. Memulai Pelatihan Model ---\n",
      "Epoch 1/50\n",
      "\u001b[1m107/107\u001b[0m \u001b[32m━━━━━━━━━━━━━━━━━━━━\u001b[0m\u001b[37m\u001b[0m \u001b[1m0s\u001b[0m 622ms/step - auc: 0.4821 - binary_accuracy: 0.5118 - loss: 0.8991 - precision: 0.3611 - recall: 0.3805\n",
      "Epoch 1: val_loss improved from inf to 0.72066, saving model to d:\\Kuroya\\Kuliah\\sampah-multilabel-ai\\dataset\\checkpoints\\best_model.h5\n"
     ]
    },
    {
     "name": "stderr",
     "output_type": "stream",
     "text": [
      "WARNING:absl:You are saving your model as an HDF5 file via `model.save()` or `keras.saving.save_model(model)`. This file format is considered legacy. We recommend using instead the native Keras format, e.g. `model.save('my_model.keras')` or `keras.saving.save_model(model, 'my_model.keras')`. \n"
     ]
    },
    {
     "name": "stdout",
     "output_type": "stream",
     "text": [
      "\u001b[1m107/107\u001b[0m \u001b[32m━━━━━━━━━━━━━━━━━━━━\u001b[0m\u001b[37m\u001b[0m \u001b[1m99s\u001b[0m 812ms/step - auc: 0.4822 - binary_accuracy: 0.5120 - loss: 0.8987 - precision: 0.3612 - recall: 0.3801 - val_auc: 0.5135 - val_binary_accuracy: 0.5649 - val_loss: 0.7207 - val_precision: 0.3973 - val_recall: 0.3002\n",
      "Epoch 2/50\n",
      "\u001b[1m106/107\u001b[0m \u001b[32m━━━━━━━━━━━━━━━━━━━\u001b[0m\u001b[37m━\u001b[0m \u001b[1m0s\u001b[0m 610ms/step - auc: 0.5212 - binary_accuracy: 0.5645 - loss: 0.8131 - precision: 0.4023 - recall: 0.3273\n",
      "Epoch 2: val_loss improved from 0.72066 to 0.68482, saving model to d:\\Kuroya\\Kuliah\\sampah-multilabel-ai\\dataset\\checkpoints\\best_model.h5\n"
     ]
    },
    {
     "name": "stderr",
     "output_type": "stream",
     "text": [
      "WARNING:absl:You are saving your model as an HDF5 file via `model.save()` or `keras.saving.save_model(model)`. This file format is considered legacy. We recommend using instead the native Keras format, e.g. `model.save('my_model.keras')` or `keras.saving.save_model(model, 'my_model.keras')`. \n"
     ]
    },
    {
     "name": "stdout",
     "output_type": "stream",
     "text": [
      "\u001b[1m107/107\u001b[0m \u001b[32m━━━━━━━━━━━━━━━━━━━━\u001b[0m\u001b[37m\u001b[0m \u001b[1m79s\u001b[0m 738ms/step - auc: 0.5212 - binary_accuracy: 0.5645 - loss: 0.8130 - precision: 0.4023 - recall: 0.3274 - val_auc: 0.5627 - val_binary_accuracy: 0.6011 - val_loss: 0.6848 - val_precision: 0.4500 - val_recall: 0.2654\n",
      "Epoch 3/50\n",
      "\u001b[1m106/107\u001b[0m \u001b[32m━━━━━━━━━━━━━━━━━━━\u001b[0m\u001b[37m━\u001b[0m \u001b[1m0s\u001b[0m 574ms/step - auc: 0.5521 - binary_accuracy: 0.5825 - loss: 0.7762 - precision: 0.4302 - recall: 0.3424\n",
      "Epoch 3: val_loss improved from 0.68482 to 0.65902, saving model to d:\\Kuroya\\Kuliah\\sampah-multilabel-ai\\dataset\\checkpoints\\best_model.h5\n"
     ]
    },
    {
     "name": "stderr",
     "output_type": "stream",
     "text": [
      "WARNING:absl:You are saving your model as an HDF5 file via `model.save()` or `keras.saving.save_model(model)`. This file format is considered legacy. We recommend using instead the native Keras format, e.g. `model.save('my_model.keras')` or `keras.saving.save_model(model, 'my_model.keras')`. \n"
     ]
    },
    {
     "name": "stdout",
     "output_type": "stream",
     "text": [
      "\u001b[1m107/107\u001b[0m \u001b[32m━━━━━━━━━━━━━━━━━━━━\u001b[0m\u001b[37m\u001b[0m \u001b[1m76s\u001b[0m 709ms/step - auc: 0.5521 - binary_accuracy: 0.5825 - loss: 0.7761 - precision: 0.4302 - recall: 0.3424 - val_auc: 0.6055 - val_binary_accuracy: 0.6232 - val_loss: 0.6590 - val_precision: 0.4997 - val_recall: 0.2858\n",
      "Epoch 4/50\n",
      "\u001b[1m107/107\u001b[0m \u001b[32m━━━━━━━━━━━━━━━━━━━━\u001b[0m\u001b[37m\u001b[0m \u001b[1m0s\u001b[0m 605ms/step - auc: 0.5717 - binary_accuracy: 0.5926 - loss: 0.7500 - precision: 0.4462 - recall: 0.3591\n",
      "Epoch 4: val_loss improved from 0.65902 to 0.64033, saving model to d:\\Kuroya\\Kuliah\\sampah-multilabel-ai\\dataset\\checkpoints\\best_model.h5\n"
     ]
    },
    {
     "name": "stderr",
     "output_type": "stream",
     "text": [
      "WARNING:absl:You are saving your model as an HDF5 file via `model.save()` or `keras.saving.save_model(model)`. This file format is considered legacy. We recommend using instead the native Keras format, e.g. `model.save('my_model.keras')` or `keras.saving.save_model(model, 'my_model.keras')`. \n"
     ]
    },
    {
     "name": "stdout",
     "output_type": "stream",
     "text": [
      "\u001b[1m107/107\u001b[0m \u001b[32m━━━━━━━━━━━━━━━━━━━━\u001b[0m\u001b[37m\u001b[0m \u001b[1m78s\u001b[0m 731ms/step - auc: 0.5718 - binary_accuracy: 0.5926 - loss: 0.7500 - precision: 0.4462 - recall: 0.3592 - val_auc: 0.6387 - val_binary_accuracy: 0.6418 - val_loss: 0.6403 - val_precision: 0.5459 - val_recall: 0.2909\n",
      "Epoch 5/50\n",
      "\u001b[1m107/107\u001b[0m \u001b[32m━━━━━━━━━━━━━━━━━━━━\u001b[0m\u001b[37m\u001b[0m \u001b[1m0s\u001b[0m 571ms/step - auc: 0.5897 - binary_accuracy: 0.6034 - loss: 0.7320 - precision: 0.4610 - recall: 0.3748\n",
      "Epoch 5: val_loss improved from 0.64033 to 0.62239, saving model to d:\\Kuroya\\Kuliah\\sampah-multilabel-ai\\dataset\\checkpoints\\best_model.h5\n"
     ]
    },
    {
     "name": "stderr",
     "output_type": "stream",
     "text": [
      "WARNING:absl:You are saving your model as an HDF5 file via `model.save()` or `keras.saving.save_model(model)`. This file format is considered legacy. We recommend using instead the native Keras format, e.g. `model.save('my_model.keras')` or `keras.saving.save_model(model, 'my_model.keras')`. \n"
     ]
    },
    {
     "name": "stdout",
     "output_type": "stream",
     "text": [
      "\u001b[1m107/107\u001b[0m \u001b[32m━━━━━━━━━━━━━━━━━━━━\u001b[0m\u001b[37m\u001b[0m \u001b[1m75s\u001b[0m 702ms/step - auc: 0.5898 - binary_accuracy: 0.6035 - loss: 0.7319 - precision: 0.4611 - recall: 0.3749 - val_auc: 0.6679 - val_binary_accuracy: 0.6587 - val_loss: 0.6224 - val_precision: 0.5898 - val_recall: 0.3081\n",
      "Epoch 6/50\n",
      "\u001b[1m107/107\u001b[0m \u001b[32m━━━━━━━━━━━━━━━━━━━━\u001b[0m\u001b[37m\u001b[0m \u001b[1m0s\u001b[0m 577ms/step - auc: 0.6029 - binary_accuracy: 0.6129 - loss: 0.7204 - precision: 0.4841 - recall: 0.3909\n",
      "Epoch 6: val_loss improved from 0.62239 to 0.61168, saving model to d:\\Kuroya\\Kuliah\\sampah-multilabel-ai\\dataset\\checkpoints\\best_model.h5\n"
     ]
    },
    {
     "name": "stderr",
     "output_type": "stream",
     "text": [
      "WARNING:absl:You are saving your model as an HDF5 file via `model.save()` or `keras.saving.save_model(model)`. This file format is considered legacy. We recommend using instead the native Keras format, e.g. `model.save('my_model.keras')` or `keras.saving.save_model(model, 'my_model.keras')`. \n"
     ]
    },
    {
     "name": "stdout",
     "output_type": "stream",
     "text": [
      "\u001b[1m107/107\u001b[0m \u001b[32m━━━━━━━━━━━━━━━━━━━━\u001b[0m\u001b[37m\u001b[0m \u001b[1m77s\u001b[0m 722ms/step - auc: 0.6030 - binary_accuracy: 0.6129 - loss: 0.7204 - precision: 0.4840 - recall: 0.3909 - val_auc: 0.6876 - val_binary_accuracy: 0.6693 - val_loss: 0.6117 - val_precision: 0.6272 - val_recall: 0.3006\n",
      "Epoch 7/50\n",
      "\u001b[1m107/107\u001b[0m \u001b[32m━━━━━━━━━━━━━━━━━━━━\u001b[0m\u001b[37m\u001b[0m \u001b[1m0s\u001b[0m 575ms/step - auc: 0.6122 - binary_accuracy: 0.6141 - loss: 0.7089 - precision: 0.4821 - recall: 0.3916\n",
      "Epoch 7: val_loss improved from 0.61168 to 0.60438, saving model to d:\\Kuroya\\Kuliah\\sampah-multilabel-ai\\dataset\\checkpoints\\best_model.h5\n"
     ]
    },
    {
     "name": "stderr",
     "output_type": "stream",
     "text": [
      "WARNING:absl:You are saving your model as an HDF5 file via `model.save()` or `keras.saving.save_model(model)`. This file format is considered legacy. We recommend using instead the native Keras format, e.g. `model.save('my_model.keras')` or `keras.saving.save_model(model, 'my_model.keras')`. \n"
     ]
    },
    {
     "name": "stdout",
     "output_type": "stream",
     "text": [
      "\u001b[1m107/107\u001b[0m \u001b[32m━━━━━━━━━━━━━━━━━━━━\u001b[0m\u001b[37m\u001b[0m \u001b[1m76s\u001b[0m 711ms/step - auc: 0.6123 - binary_accuracy: 0.6142 - loss: 0.7088 - precision: 0.4822 - recall: 0.3918 - val_auc: 0.7014 - val_binary_accuracy: 0.6799 - val_loss: 0.6044 - val_precision: 0.6624 - val_recall: 0.3061\n",
      "Epoch 8/50\n",
      "\u001b[1m107/107\u001b[0m \u001b[32m━━━━━━━━━━━━━━━━━━━━\u001b[0m\u001b[37m\u001b[0m \u001b[1m0s\u001b[0m 569ms/step - auc: 0.6400 - binary_accuracy: 0.6344 - loss: 0.6815 - precision: 0.5132 - recall: 0.4078\n",
      "Epoch 8: val_loss improved from 0.60438 to 0.59514, saving model to d:\\Kuroya\\Kuliah\\sampah-multilabel-ai\\dataset\\checkpoints\\best_model.h5\n"
     ]
    },
    {
     "name": "stderr",
     "output_type": "stream",
     "text": [
      "WARNING:absl:You are saving your model as an HDF5 file via `model.save()` or `keras.saving.save_model(model)`. This file format is considered legacy. We recommend using instead the native Keras format, e.g. `model.save('my_model.keras')` or `keras.saving.save_model(model, 'my_model.keras')`. \n"
     ]
    },
    {
     "name": "stdout",
     "output_type": "stream",
     "text": [
      "\u001b[1m107/107\u001b[0m \u001b[32m━━━━━━━━━━━━━━━━━━━━\u001b[0m\u001b[37m\u001b[0m \u001b[1m75s\u001b[0m 705ms/step - auc: 0.6400 - binary_accuracy: 0.6344 - loss: 0.6815 - precision: 0.5132 - recall: 0.4078 - val_auc: 0.7132 - val_binary_accuracy: 0.6862 - val_loss: 0.5951 - val_precision: 0.6644 - val_recall: 0.3374\n",
      "Epoch 9/50\n",
      "\u001b[1m107/107\u001b[0m \u001b[32m━━━━━━━━━━━━━━━━━━━━\u001b[0m\u001b[37m\u001b[0m \u001b[1m0s\u001b[0m 557ms/step - auc: 0.6549 - binary_accuracy: 0.6418 - loss: 0.6690 - precision: 0.5300 - recall: 0.4362\n",
      "Epoch 9: val_loss improved from 0.59514 to 0.58781, saving model to d:\\Kuroya\\Kuliah\\sampah-multilabel-ai\\dataset\\checkpoints\\best_model.h5\n"
     ]
    },
    {
     "name": "stderr",
     "output_type": "stream",
     "text": [
      "WARNING:absl:You are saving your model as an HDF5 file via `model.save()` or `keras.saving.save_model(model)`. This file format is considered legacy. We recommend using instead the native Keras format, e.g. `model.save('my_model.keras')` or `keras.saving.save_model(model, 'my_model.keras')`. \n"
     ]
    },
    {
     "name": "stdout",
     "output_type": "stream",
     "text": [
      "\u001b[1m107/107\u001b[0m \u001b[32m━━━━━━━━━━━━━━━━━━━━\u001b[0m\u001b[37m\u001b[0m \u001b[1m75s\u001b[0m 703ms/step - auc: 0.6549 - binary_accuracy: 0.6418 - loss: 0.6690 - precision: 0.5300 - recall: 0.4362 - val_auc: 0.7247 - val_binary_accuracy: 0.6911 - val_loss: 0.5878 - val_precision: 0.6783 - val_recall: 0.3421\n",
      "Epoch 10/50\n",
      "\u001b[1m106/107\u001b[0m \u001b[32m━━━━━━━━━━━━━━━━━━━\u001b[0m\u001b[37m━\u001b[0m \u001b[1m0s\u001b[0m 603ms/step - auc: 0.6540 - binary_accuracy: 0.6357 - loss: 0.6711 - precision: 0.5203 - recall: 0.4330\n",
      "Epoch 10: val_loss improved from 0.58781 to 0.58414, saving model to d:\\Kuroya\\Kuliah\\sampah-multilabel-ai\\dataset\\checkpoints\\best_model.h5\n"
     ]
    },
    {
     "name": "stderr",
     "output_type": "stream",
     "text": [
      "WARNING:absl:You are saving your model as an HDF5 file via `model.save()` or `keras.saving.save_model(model)`. This file format is considered legacy. We recommend using instead the native Keras format, e.g. `model.save('my_model.keras')` or `keras.saving.save_model(model, 'my_model.keras')`. \n"
     ]
    },
    {
     "name": "stdout",
     "output_type": "stream",
     "text": [
      "\u001b[1m107/107\u001b[0m \u001b[32m━━━━━━━━━━━━━━━━━━━━\u001b[0m\u001b[37m\u001b[0m \u001b[1m78s\u001b[0m 733ms/step - auc: 0.6541 - binary_accuracy: 0.6358 - loss: 0.6710 - precision: 0.5204 - recall: 0.4330 - val_auc: 0.7300 - val_binary_accuracy: 0.6952 - val_loss: 0.5841 - val_precision: 0.6846 - val_recall: 0.3538\n",
      "Epoch 11/50\n",
      "\u001b[1m107/107\u001b[0m \u001b[32m━━━━━━━━━━━━━━━━━━━━\u001b[0m\u001b[37m\u001b[0m \u001b[1m0s\u001b[0m 588ms/step - auc: 0.6577 - binary_accuracy: 0.6422 - loss: 0.6685 - precision: 0.5316 - recall: 0.4389\n",
      "Epoch 11: val_loss improved from 0.58414 to 0.57533, saving model to d:\\Kuroya\\Kuliah\\sampah-multilabel-ai\\dataset\\checkpoints\\best_model.h5\n"
     ]
    },
    {
     "name": "stderr",
     "output_type": "stream",
     "text": [
      "WARNING:absl:You are saving your model as an HDF5 file via `model.save()` or `keras.saving.save_model(model)`. This file format is considered legacy. We recommend using instead the native Keras format, e.g. `model.save('my_model.keras')` or `keras.saving.save_model(model, 'my_model.keras')`. \n"
     ]
    },
    {
     "name": "stdout",
     "output_type": "stream",
     "text": [
      "\u001b[1m107/107\u001b[0m \u001b[32m━━━━━━━━━━━━━━━━━━━━\u001b[0m\u001b[37m\u001b[0m \u001b[1m77s\u001b[0m 722ms/step - auc: 0.6577 - binary_accuracy: 0.6423 - loss: 0.6684 - precision: 0.5317 - recall: 0.4389 - val_auc: 0.7408 - val_binary_accuracy: 0.7011 - val_loss: 0.5753 - val_precision: 0.6973 - val_recall: 0.3647\n",
      "Epoch 12/50\n",
      "\u001b[1m107/107\u001b[0m \u001b[32m━━━━━━━━━━━━━━━━━━━━\u001b[0m\u001b[37m\u001b[0m \u001b[1m0s\u001b[0m 583ms/step - auc: 0.6734 - binary_accuracy: 0.6507 - loss: 0.6493 - precision: 0.5417 - recall: 0.4525\n",
      "Epoch 12: val_loss improved from 0.57533 to 0.57497, saving model to d:\\Kuroya\\Kuliah\\sampah-multilabel-ai\\dataset\\checkpoints\\best_model.h5\n"
     ]
    },
    {
     "name": "stderr",
     "output_type": "stream",
     "text": [
      "WARNING:absl:You are saving your model as an HDF5 file via `model.save()` or `keras.saving.save_model(model)`. This file format is considered legacy. We recommend using instead the native Keras format, e.g. `model.save('my_model.keras')` or `keras.saving.save_model(model, 'my_model.keras')`. \n"
     ]
    },
    {
     "name": "stdout",
     "output_type": "stream",
     "text": [
      "\u001b[1m107/107\u001b[0m \u001b[32m━━━━━━━━━━━━━━━━━━━━\u001b[0m\u001b[37m\u001b[0m \u001b[1m77s\u001b[0m 716ms/step - auc: 0.6734 - binary_accuracy: 0.6507 - loss: 0.6493 - precision: 0.5418 - recall: 0.4525 - val_auc: 0.7427 - val_binary_accuracy: 0.7010 - val_loss: 0.5750 - val_precision: 0.7041 - val_recall: 0.3554\n",
      "Epoch 13/50\n",
      "\u001b[1m107/107\u001b[0m \u001b[32m━━━━━━━━━━━━━━━━━━━━\u001b[0m\u001b[37m\u001b[0m \u001b[1m0s\u001b[0m 604ms/step - auc: 0.6815 - binary_accuracy: 0.6564 - loss: 0.6441 - precision: 0.5577 - recall: 0.4594\n",
      "Epoch 13: val_loss improved from 0.57497 to 0.56737, saving model to d:\\Kuroya\\Kuliah\\sampah-multilabel-ai\\dataset\\checkpoints\\best_model.h5\n"
     ]
    },
    {
     "name": "stderr",
     "output_type": "stream",
     "text": [
      "WARNING:absl:You are saving your model as an HDF5 file via `model.save()` or `keras.saving.save_model(model)`. This file format is considered legacy. We recommend using instead the native Keras format, e.g. `model.save('my_model.keras')` or `keras.saving.save_model(model, 'my_model.keras')`. \n"
     ]
    },
    {
     "name": "stdout",
     "output_type": "stream",
     "text": [
      "\u001b[1m107/107\u001b[0m \u001b[32m━━━━━━━━━━━━━━━━━━━━\u001b[0m\u001b[37m\u001b[0m \u001b[1m80s\u001b[0m 746ms/step - auc: 0.6815 - binary_accuracy: 0.6565 - loss: 0.6441 - precision: 0.5577 - recall: 0.4594 - val_auc: 0.7529 - val_binary_accuracy: 0.7052 - val_loss: 0.5674 - val_precision: 0.7125 - val_recall: 0.3643\n",
      "Epoch 14/50\n",
      "\u001b[1m107/107\u001b[0m \u001b[32m━━━━━━━━━━━━━━━━━━━━\u001b[0m\u001b[37m\u001b[0m \u001b[1m0s\u001b[0m 575ms/step - auc: 0.6871 - binary_accuracy: 0.6620 - loss: 0.6350 - precision: 0.5603 - recall: 0.4573\n",
      "Epoch 14: val_loss improved from 0.56737 to 0.56473, saving model to d:\\Kuroya\\Kuliah\\sampah-multilabel-ai\\dataset\\checkpoints\\best_model.h5\n"
     ]
    },
    {
     "name": "stderr",
     "output_type": "stream",
     "text": [
      "WARNING:absl:You are saving your model as an HDF5 file via `model.save()` or `keras.saving.save_model(model)`. This file format is considered legacy. We recommend using instead the native Keras format, e.g. `model.save('my_model.keras')` or `keras.saving.save_model(model, 'my_model.keras')`. \n"
     ]
    },
    {
     "name": "stdout",
     "output_type": "stream",
     "text": [
      "\u001b[1m107/107\u001b[0m \u001b[32m━━━━━━━━━━━━━━━━━━━━\u001b[0m\u001b[37m\u001b[0m \u001b[1m76s\u001b[0m 705ms/step - auc: 0.6871 - binary_accuracy: 0.6619 - loss: 0.6350 - precision: 0.5603 - recall: 0.4573 - val_auc: 0.7563 - val_binary_accuracy: 0.7066 - val_loss: 0.5647 - val_precision: 0.7175 - val_recall: 0.3643\n",
      "Epoch 15/50\n",
      "\u001b[1m107/107\u001b[0m \u001b[32m━━━━━━━━━━━━━━━━━━━━\u001b[0m\u001b[37m\u001b[0m \u001b[1m0s\u001b[0m 612ms/step - auc: 0.7021 - binary_accuracy: 0.6740 - loss: 0.6191 - precision: 0.5765 - recall: 0.4689\n",
      "Epoch 15: val_loss improved from 0.56473 to 0.56010, saving model to d:\\Kuroya\\Kuliah\\sampah-multilabel-ai\\dataset\\checkpoints\\best_model.h5\n"
     ]
    },
    {
     "name": "stderr",
     "output_type": "stream",
     "text": [
      "WARNING:absl:You are saving your model as an HDF5 file via `model.save()` or `keras.saving.save_model(model)`. This file format is considered legacy. We recommend using instead the native Keras format, e.g. `model.save('my_model.keras')` or `keras.saving.save_model(model, 'my_model.keras')`. \n"
     ]
    },
    {
     "name": "stdout",
     "output_type": "stream",
     "text": [
      "\u001b[1m107/107\u001b[0m \u001b[32m━━━━━━━━━━━━━━━━━━━━\u001b[0m\u001b[37m\u001b[0m \u001b[1m80s\u001b[0m 749ms/step - auc: 0.7021 - binary_accuracy: 0.6739 - loss: 0.6191 - precision: 0.5765 - recall: 0.4688 - val_auc: 0.7601 - val_binary_accuracy: 0.7110 - val_loss: 0.5601 - val_precision: 0.7127 - val_recall: 0.3898\n",
      "Epoch 16/50\n",
      "\u001b[1m107/107\u001b[0m \u001b[32m━━━━━━━━━━━━━━━━━━━━\u001b[0m\u001b[37m\u001b[0m \u001b[1m0s\u001b[0m 565ms/step - auc: 0.6984 - binary_accuracy: 0.6675 - loss: 0.6246 - precision: 0.5703 - recall: 0.4806\n",
      "Epoch 16: val_loss improved from 0.56010 to 0.55721, saving model to d:\\Kuroya\\Kuliah\\sampah-multilabel-ai\\dataset\\checkpoints\\best_model.h5\n"
     ]
    },
    {
     "name": "stderr",
     "output_type": "stream",
     "text": [
      "WARNING:absl:You are saving your model as an HDF5 file via `model.save()` or `keras.saving.save_model(model)`. This file format is considered legacy. We recommend using instead the native Keras format, e.g. `model.save('my_model.keras')` or `keras.saving.save_model(model, 'my_model.keras')`. \n"
     ]
    },
    {
     "name": "stdout",
     "output_type": "stream",
     "text": [
      "\u001b[1m107/107\u001b[0m \u001b[32m━━━━━━━━━━━━━━━━━━━━\u001b[0m\u001b[37m\u001b[0m \u001b[1m74s\u001b[0m 691ms/step - auc: 0.6984 - binary_accuracy: 0.6675 - loss: 0.6246 - precision: 0.5704 - recall: 0.4805 - val_auc: 0.7652 - val_binary_accuracy: 0.7128 - val_loss: 0.5572 - val_precision: 0.7227 - val_recall: 0.3851\n",
      "Epoch 17/50\n",
      "\u001b[1m107/107\u001b[0m \u001b[32m━━━━━━━━━━━━━━━━━━━━\u001b[0m\u001b[37m\u001b[0m \u001b[1m0s\u001b[0m 551ms/step - auc: 0.7041 - binary_accuracy: 0.6721 - loss: 0.6180 - precision: 0.5754 - recall: 0.4812\n",
      "Epoch 17: val_loss did not improve from 0.55721\n",
      "\u001b[1m107/107\u001b[0m \u001b[32m━━━━━━━━━━━━━━━━━━━━\u001b[0m\u001b[37m\u001b[0m \u001b[1m72s\u001b[0m 674ms/step - auc: 0.7042 - binary_accuracy: 0.6721 - loss: 0.6179 - precision: 0.5755 - recall: 0.4812 - val_auc: 0.7640 - val_binary_accuracy: 0.7145 - val_loss: 0.5577 - val_precision: 0.7261 - val_recall: 0.3886\n",
      "Epoch 18/50\n",
      "\u001b[1m107/107\u001b[0m \u001b[32m━━━━━━━━━━━━━━━━━━━━\u001b[0m\u001b[37m\u001b[0m \u001b[1m0s\u001b[0m 555ms/step - auc: 0.7112 - binary_accuracy: 0.6777 - loss: 0.6109 - precision: 0.5880 - recall: 0.4791\n",
      "Epoch 18: val_loss improved from 0.55721 to 0.55621, saving model to d:\\Kuroya\\Kuliah\\sampah-multilabel-ai\\dataset\\checkpoints\\best_model.h5\n"
     ]
    },
    {
     "name": "stderr",
     "output_type": "stream",
     "text": [
      "WARNING:absl:You are saving your model as an HDF5 file via `model.save()` or `keras.saving.save_model(model)`. This file format is considered legacy. We recommend using instead the native Keras format, e.g. `model.save('my_model.keras')` or `keras.saving.save_model(model, 'my_model.keras')`. \n"
     ]
    },
    {
     "name": "stdout",
     "output_type": "stream",
     "text": [
      "\u001b[1m107/107\u001b[0m \u001b[32m━━━━━━━━━━━━━━━━━━━━\u001b[0m\u001b[37m\u001b[0m \u001b[1m73s\u001b[0m 680ms/step - auc: 0.7112 - binary_accuracy: 0.6777 - loss: 0.6109 - precision: 0.5880 - recall: 0.4791 - val_auc: 0.7674 - val_binary_accuracy: 0.7166 - val_loss: 0.5562 - val_precision: 0.7336 - val_recall: 0.3886\n",
      "Epoch 19/50\n",
      "\u001b[1m107/107\u001b[0m \u001b[32m━━━━━━━━━━━━━━━━━━━━\u001b[0m\u001b[37m\u001b[0m \u001b[1m0s\u001b[0m 535ms/step - auc: 0.7229 - binary_accuracy: 0.6844 - loss: 0.5991 - precision: 0.5975 - recall: 0.4892\n",
      "Epoch 19: val_loss improved from 0.55621 to 0.55108, saving model to d:\\Kuroya\\Kuliah\\sampah-multilabel-ai\\dataset\\checkpoints\\best_model.h5\n"
     ]
    },
    {
     "name": "stderr",
     "output_type": "stream",
     "text": [
      "WARNING:absl:You are saving your model as an HDF5 file via `model.save()` or `keras.saving.save_model(model)`. This file format is considered legacy. We recommend using instead the native Keras format, e.g. `model.save('my_model.keras')` or `keras.saving.save_model(model, 'my_model.keras')`. \n"
     ]
    },
    {
     "name": "stdout",
     "output_type": "stream",
     "text": [
      "\u001b[1m107/107\u001b[0m \u001b[32m━━━━━━━━━━━━━━━━━━━━\u001b[0m\u001b[37m\u001b[0m \u001b[1m70s\u001b[0m 658ms/step - auc: 0.7229 - binary_accuracy: 0.6844 - loss: 0.5991 - precision: 0.5975 - recall: 0.4892 - val_auc: 0.7706 - val_binary_accuracy: 0.7203 - val_loss: 0.5511 - val_precision: 0.7288 - val_recall: 0.4097\n",
      "Epoch 20/50\n",
      "\u001b[1m107/107\u001b[0m \u001b[32m━━━━━━━━━━━━━━━━━━━━\u001b[0m\u001b[37m\u001b[0m \u001b[1m0s\u001b[0m 534ms/step - auc: 0.7217 - binary_accuracy: 0.6868 - loss: 0.5983 - precision: 0.5951 - recall: 0.4959\n",
      "Epoch 20: val_loss improved from 0.55108 to 0.54892, saving model to d:\\Kuroya\\Kuliah\\sampah-multilabel-ai\\dataset\\checkpoints\\best_model.h5\n"
     ]
    },
    {
     "name": "stderr",
     "output_type": "stream",
     "text": [
      "WARNING:absl:You are saving your model as an HDF5 file via `model.save()` or `keras.saving.save_model(model)`. This file format is considered legacy. We recommend using instead the native Keras format, e.g. `model.save('my_model.keras')` or `keras.saving.save_model(model, 'my_model.keras')`. \n"
     ]
    },
    {
     "name": "stdout",
     "output_type": "stream",
     "text": [
      "\u001b[1m107/107\u001b[0m \u001b[32m━━━━━━━━━━━━━━━━━━━━\u001b[0m\u001b[37m\u001b[0m \u001b[1m71s\u001b[0m 661ms/step - auc: 0.7217 - binary_accuracy: 0.6868 - loss: 0.5983 - precision: 0.5951 - recall: 0.4959 - val_auc: 0.7735 - val_binary_accuracy: 0.7179 - val_loss: 0.5489 - val_precision: 0.7267 - val_recall: 0.4023\n",
      "Epoch 21/50\n",
      "\u001b[1m107/107\u001b[0m \u001b[32m━━━━━━━━━━━━━━━━━━━━\u001b[0m\u001b[37m\u001b[0m \u001b[1m0s\u001b[0m 581ms/step - auc: 0.7135 - binary_accuracy: 0.6763 - loss: 0.6091 - precision: 0.5863 - recall: 0.4755\n",
      "Epoch 21: val_loss improved from 0.54892 to 0.54710, saving model to d:\\Kuroya\\Kuliah\\sampah-multilabel-ai\\dataset\\checkpoints\\best_model.h5\n"
     ]
    },
    {
     "name": "stderr",
     "output_type": "stream",
     "text": [
      "WARNING:absl:You are saving your model as an HDF5 file via `model.save()` or `keras.saving.save_model(model)`. This file format is considered legacy. We recommend using instead the native Keras format, e.g. `model.save('my_model.keras')` or `keras.saving.save_model(model, 'my_model.keras')`. \n"
     ]
    },
    {
     "name": "stdout",
     "output_type": "stream",
     "text": [
      "\u001b[1m107/107\u001b[0m \u001b[32m━━━━━━━━━━━━━━━━━━━━\u001b[0m\u001b[37m\u001b[0m \u001b[1m76s\u001b[0m 711ms/step - auc: 0.7135 - binary_accuracy: 0.6763 - loss: 0.6090 - precision: 0.5864 - recall: 0.4756 - val_auc: 0.7751 - val_binary_accuracy: 0.7195 - val_loss: 0.5471 - val_precision: 0.7272 - val_recall: 0.4085\n",
      "Epoch 22/50\n",
      "\u001b[1m107/107\u001b[0m \u001b[32m━━━━━━━━━━━━━━━━━━━━\u001b[0m\u001b[37m\u001b[0m \u001b[1m0s\u001b[0m 562ms/step - auc: 0.7260 - binary_accuracy: 0.6874 - loss: 0.5949 - precision: 0.6031 - recall: 0.4910\n",
      "Epoch 22: val_loss improved from 0.54710 to 0.54552, saving model to d:\\Kuroya\\Kuliah\\sampah-multilabel-ai\\dataset\\checkpoints\\best_model.h5\n"
     ]
    },
    {
     "name": "stderr",
     "output_type": "stream",
     "text": [
      "WARNING:absl:You are saving your model as an HDF5 file via `model.save()` or `keras.saving.save_model(model)`. This file format is considered legacy. We recommend using instead the native Keras format, e.g. `model.save('my_model.keras')` or `keras.saving.save_model(model, 'my_model.keras')`. \n"
     ]
    },
    {
     "name": "stdout",
     "output_type": "stream",
     "text": [
      "\u001b[1m107/107\u001b[0m \u001b[32m━━━━━━━━━━━━━━━━━━━━\u001b[0m\u001b[37m\u001b[0m \u001b[1m74s\u001b[0m 688ms/step - auc: 0.7260 - binary_accuracy: 0.6875 - loss: 0.5949 - precision: 0.6031 - recall: 0.4910 - val_auc: 0.7786 - val_binary_accuracy: 0.7241 - val_loss: 0.5455 - val_precision: 0.7415 - val_recall: 0.4105\n",
      "Epoch 23/50\n",
      "\u001b[1m107/107\u001b[0m \u001b[32m━━━━━━━━━━━━━━━━━━━━\u001b[0m\u001b[37m\u001b[0m \u001b[1m0s\u001b[0m 552ms/step - auc: 0.7346 - binary_accuracy: 0.6965 - loss: 0.5873 - precision: 0.6196 - recall: 0.4993\n",
      "Epoch 23: val_loss improved from 0.54552 to 0.54351, saving model to d:\\Kuroya\\Kuliah\\sampah-multilabel-ai\\dataset\\checkpoints\\best_model.h5\n"
     ]
    },
    {
     "name": "stderr",
     "output_type": "stream",
     "text": [
      "WARNING:absl:You are saving your model as an HDF5 file via `model.save()` or `keras.saving.save_model(model)`. This file format is considered legacy. We recommend using instead the native Keras format, e.g. `model.save('my_model.keras')` or `keras.saving.save_model(model, 'my_model.keras')`. \n"
     ]
    },
    {
     "name": "stdout",
     "output_type": "stream",
     "text": [
      "\u001b[1m107/107\u001b[0m \u001b[32m━━━━━━━━━━━━━━━━━━━━\u001b[0m\u001b[37m\u001b[0m \u001b[1m73s\u001b[0m 679ms/step - auc: 0.7346 - binary_accuracy: 0.6965 - loss: 0.5874 - precision: 0.6195 - recall: 0.4993 - val_auc: 0.7804 - val_binary_accuracy: 0.7247 - val_loss: 0.5435 - val_precision: 0.7416 - val_recall: 0.4128\n",
      "Epoch 24/50\n",
      "\u001b[1m107/107\u001b[0m \u001b[32m━━━━━━━━━━━━━━━━━━━━\u001b[0m\u001b[37m\u001b[0m \u001b[1m0s\u001b[0m 606ms/step - auc: 0.7337 - binary_accuracy: 0.6940 - loss: 0.5860 - precision: 0.6138 - recall: 0.5038\n",
      "Epoch 24: val_loss improved from 0.54351 to 0.54188, saving model to d:\\Kuroya\\Kuliah\\sampah-multilabel-ai\\dataset\\checkpoints\\best_model.h5\n"
     ]
    },
    {
     "name": "stderr",
     "output_type": "stream",
     "text": [
      "WARNING:absl:You are saving your model as an HDF5 file via `model.save()` or `keras.saving.save_model(model)`. This file format is considered legacy. We recommend using instead the native Keras format, e.g. `model.save('my_model.keras')` or `keras.saving.save_model(model, 'my_model.keras')`. \n"
     ]
    },
    {
     "name": "stdout",
     "output_type": "stream",
     "text": [
      "\u001b[1m107/107\u001b[0m \u001b[32m━━━━━━━━━━━━━━━━━━━━\u001b[0m\u001b[37m\u001b[0m \u001b[1m78s\u001b[0m 734ms/step - auc: 0.7337 - binary_accuracy: 0.6940 - loss: 0.5860 - precision: 0.6138 - recall: 0.5038 - val_auc: 0.7820 - val_binary_accuracy: 0.7222 - val_loss: 0.5419 - val_precision: 0.7385 - val_recall: 0.4062\n",
      "Epoch 25/50\n",
      "\u001b[1m107/107\u001b[0m \u001b[32m━━━━━━━━━━━━━━━━━━━━\u001b[0m\u001b[37m\u001b[0m \u001b[1m0s\u001b[0m 579ms/step - auc: 0.7324 - binary_accuracy: 0.6921 - loss: 0.5859 - precision: 0.6099 - recall: 0.4988\n",
      "Epoch 25: val_loss improved from 0.54188 to 0.54141, saving model to d:\\Kuroya\\Kuliah\\sampah-multilabel-ai\\dataset\\checkpoints\\best_model.h5\n"
     ]
    },
    {
     "name": "stderr",
     "output_type": "stream",
     "text": [
      "WARNING:absl:You are saving your model as an HDF5 file via `model.save()` or `keras.saving.save_model(model)`. This file format is considered legacy. We recommend using instead the native Keras format, e.g. `model.save('my_model.keras')` or `keras.saving.save_model(model, 'my_model.keras')`. \n"
     ]
    },
    {
     "name": "stdout",
     "output_type": "stream",
     "text": [
      "\u001b[1m107/107\u001b[0m \u001b[32m━━━━━━━━━━━━━━━━━━━━\u001b[0m\u001b[37m\u001b[0m \u001b[1m77s\u001b[0m 720ms/step - auc: 0.7325 - binary_accuracy: 0.6921 - loss: 0.5859 - precision: 0.6099 - recall: 0.4988 - val_auc: 0.7825 - val_binary_accuracy: 0.7245 - val_loss: 0.5414 - val_precision: 0.7424 - val_recall: 0.4113\n",
      "Epoch 26/50\n",
      "\u001b[1m107/107\u001b[0m \u001b[32m━━━━━━━━━━━━━━━━━━━━\u001b[0m\u001b[37m\u001b[0m \u001b[1m0s\u001b[0m 695ms/step - auc: 0.7381 - binary_accuracy: 0.7008 - loss: 0.5815 - precision: 0.6225 - recall: 0.5054\n",
      "Epoch 26: val_loss improved from 0.54141 to 0.53809, saving model to d:\\Kuroya\\Kuliah\\sampah-multilabel-ai\\dataset\\checkpoints\\best_model.h5\n"
     ]
    },
    {
     "name": "stderr",
     "output_type": "stream",
     "text": [
      "WARNING:absl:You are saving your model as an HDF5 file via `model.save()` or `keras.saving.save_model(model)`. This file format is considered legacy. We recommend using instead the native Keras format, e.g. `model.save('my_model.keras')` or `keras.saving.save_model(model, 'my_model.keras')`. \n"
     ]
    },
    {
     "name": "stdout",
     "output_type": "stream",
     "text": [
      "\u001b[1m107/107\u001b[0m \u001b[32m━━━━━━━━━━━━━━━━━━━━\u001b[0m\u001b[37m\u001b[0m \u001b[1m92s\u001b[0m 860ms/step - auc: 0.7381 - binary_accuracy: 0.7008 - loss: 0.5815 - precision: 0.6224 - recall: 0.5054 - val_auc: 0.7852 - val_binary_accuracy: 0.7266 - val_loss: 0.5381 - val_precision: 0.7412 - val_recall: 0.4210\n",
      "Epoch 27/50\n",
      "\u001b[1m107/107\u001b[0m \u001b[32m━━━━━━━━━━━━━━━━━━━━\u001b[0m\u001b[37m\u001b[0m \u001b[1m0s\u001b[0m 678ms/step - auc: 0.7391 - binary_accuracy: 0.6994 - loss: 0.5814 - precision: 0.6199 - recall: 0.5122\n",
      "Epoch 27: val_loss did not improve from 0.53809\n",
      "\u001b[1m107/107\u001b[0m \u001b[32m━━━━━━━━━━━━━━━━━━━━\u001b[0m\u001b[37m\u001b[0m \u001b[1m89s\u001b[0m 831ms/step - auc: 0.7391 - binary_accuracy: 0.6994 - loss: 0.5814 - precision: 0.6198 - recall: 0.5121 - val_auc: 0.7814 - val_binary_accuracy: 0.7244 - val_loss: 0.5411 - val_precision: 0.7340 - val_recall: 0.4206\n",
      "Epoch 28/50\n",
      "\u001b[1m107/107\u001b[0m \u001b[32m━━━━━━━━━━━━━━━━━━━━\u001b[0m\u001b[37m\u001b[0m \u001b[1m0s\u001b[0m 556ms/step - auc: 0.7455 - binary_accuracy: 0.6981 - loss: 0.5747 - precision: 0.6215 - recall: 0.5078\n",
      "Epoch 28: val_loss improved from 0.53809 to 0.53575, saving model to d:\\Kuroya\\Kuliah\\sampah-multilabel-ai\\dataset\\checkpoints\\best_model.h5\n"
     ]
    },
    {
     "name": "stderr",
     "output_type": "stream",
     "text": [
      "WARNING:absl:You are saving your model as an HDF5 file via `model.save()` or `keras.saving.save_model(model)`. This file format is considered legacy. We recommend using instead the native Keras format, e.g. `model.save('my_model.keras')` or `keras.saving.save_model(model, 'my_model.keras')`. \n"
     ]
    },
    {
     "name": "stdout",
     "output_type": "stream",
     "text": [
      "\u001b[1m107/107\u001b[0m \u001b[32m━━━━━━━━━━━━━━━━━━━━\u001b[0m\u001b[37m\u001b[0m \u001b[1m73s\u001b[0m 678ms/step - auc: 0.7455 - binary_accuracy: 0.6981 - loss: 0.5747 - precision: 0.6215 - recall: 0.5078 - val_auc: 0.7868 - val_binary_accuracy: 0.7292 - val_loss: 0.5357 - val_precision: 0.7421 - val_recall: 0.4308\n",
      "Epoch 29/50\n",
      "\u001b[1m107/107\u001b[0m \u001b[32m━━━━━━━━━━━━━━━━━━━━\u001b[0m\u001b[37m\u001b[0m \u001b[1m0s\u001b[0m 573ms/step - auc: 0.7448 - binary_accuracy: 0.6987 - loss: 0.5738 - precision: 0.6191 - recall: 0.5147\n",
      "Epoch 29: val_loss did not improve from 0.53575\n",
      "\u001b[1m107/107\u001b[0m \u001b[32m━━━━━━━━━━━━━━━━━━━━\u001b[0m\u001b[37m\u001b[0m \u001b[1m76s\u001b[0m 713ms/step - auc: 0.7448 - binary_accuracy: 0.6987 - loss: 0.5737 - precision: 0.6191 - recall: 0.5147 - val_auc: 0.7859 - val_binary_accuracy: 0.7264 - val_loss: 0.5372 - val_precision: 0.7394 - val_recall: 0.4226\n",
      "Epoch 30/50\n",
      "\u001b[1m107/107\u001b[0m \u001b[32m━━━━━━━━━━━━━━━━━━━━\u001b[0m\u001b[37m\u001b[0m \u001b[1m0s\u001b[0m 609ms/step - auc: 0.7502 - binary_accuracy: 0.7059 - loss: 0.5678 - precision: 0.6335 - recall: 0.5136\n",
      "Epoch 30: val_loss did not improve from 0.53575\n",
      "\u001b[1m107/107\u001b[0m \u001b[32m━━━━━━━━━━━━━━━━━━━━\u001b[0m\u001b[37m\u001b[0m \u001b[1m82s\u001b[0m 769ms/step - auc: 0.7502 - binary_accuracy: 0.7059 - loss: 0.5678 - precision: 0.6335 - recall: 0.5136 - val_auc: 0.7858 - val_binary_accuracy: 0.7284 - val_loss: 0.5377 - val_precision: 0.7443 - val_recall: 0.4246\n",
      "Epoch 31/50\n",
      "\u001b[1m107/107\u001b[0m \u001b[32m━━━━━━━━━━━━━━━━━━━━\u001b[0m\u001b[37m\u001b[0m \u001b[1m0s\u001b[0m 637ms/step - auc: 0.7498 - binary_accuracy: 0.7035 - loss: 0.5676 - precision: 0.6275 - recall: 0.5158\n",
      "Epoch 31: val_loss improved from 0.53575 to 0.53479, saving model to d:\\Kuroya\\Kuliah\\sampah-multilabel-ai\\dataset\\checkpoints\\best_model.h5\n"
     ]
    },
    {
     "name": "stderr",
     "output_type": "stream",
     "text": [
      "WARNING:absl:You are saving your model as an HDF5 file via `model.save()` or `keras.saving.save_model(model)`. This file format is considered legacy. We recommend using instead the native Keras format, e.g. `model.save('my_model.keras')` or `keras.saving.save_model(model, 'my_model.keras')`. \n"
     ]
    },
    {
     "name": "stdout",
     "output_type": "stream",
     "text": [
      "\u001b[1m107/107\u001b[0m \u001b[32m━━━━━━━━━━━━━━━━━━━━\u001b[0m\u001b[37m\u001b[0m \u001b[1m83s\u001b[0m 778ms/step - auc: 0.7498 - binary_accuracy: 0.7035 - loss: 0.5676 - precision: 0.6276 - recall: 0.5158 - val_auc: 0.7893 - val_binary_accuracy: 0.7304 - val_loss: 0.5348 - val_precision: 0.7512 - val_recall: 0.4249\n",
      "Epoch 32/50\n",
      "\u001b[1m107/107\u001b[0m \u001b[32m━━━━━━━━━━━━━━━━━━━━\u001b[0m\u001b[37m\u001b[0m \u001b[1m0s\u001b[0m 638ms/step - auc: 0.7528 - binary_accuracy: 0.7057 - loss: 0.5631 - precision: 0.6279 - recall: 0.5184\n",
      "Epoch 32: val_loss improved from 0.53479 to 0.53287, saving model to d:\\Kuroya\\Kuliah\\sampah-multilabel-ai\\dataset\\checkpoints\\best_model.h5\n"
     ]
    },
    {
     "name": "stderr",
     "output_type": "stream",
     "text": [
      "WARNING:absl:You are saving your model as an HDF5 file via `model.save()` or `keras.saving.save_model(model)`. This file format is considered legacy. We recommend using instead the native Keras format, e.g. `model.save('my_model.keras')` or `keras.saving.save_model(model, 'my_model.keras')`. \n"
     ]
    },
    {
     "name": "stdout",
     "output_type": "stream",
     "text": [
      "\u001b[1m107/107\u001b[0m \u001b[32m━━━━━━━━━━━━━━━━━━━━\u001b[0m\u001b[37m\u001b[0m \u001b[1m84s\u001b[0m 787ms/step - auc: 0.7527 - binary_accuracy: 0.7057 - loss: 0.5631 - precision: 0.6279 - recall: 0.5184 - val_auc: 0.7916 - val_binary_accuracy: 0.7310 - val_loss: 0.5329 - val_precision: 0.7540 - val_recall: 0.4242\n",
      "Epoch 33/50\n",
      "\u001b[1m107/107\u001b[0m \u001b[32m━━━━━━━━━━━━━━━━━━━━\u001b[0m\u001b[37m\u001b[0m \u001b[1m0s\u001b[0m 654ms/step - auc: 0.7539 - binary_accuracy: 0.7064 - loss: 0.5654 - precision: 0.6369 - recall: 0.5115\n",
      "Epoch 33: val_loss did not improve from 0.53287\n",
      "\u001b[1m107/107\u001b[0m \u001b[32m━━━━━━━━━━━━━━━━━━━━\u001b[0m\u001b[37m\u001b[0m \u001b[1m85s\u001b[0m 794ms/step - auc: 0.7539 - binary_accuracy: 0.7064 - loss: 0.5653 - precision: 0.6368 - recall: 0.5115 - val_auc: 0.7889 - val_binary_accuracy: 0.7297 - val_loss: 0.5351 - val_precision: 0.7476 - val_recall: 0.4261\n",
      "Epoch 34/50\n",
      "\u001b[1m107/107\u001b[0m \u001b[32m━━━━━━━━━━━━━━━━━━━━\u001b[0m\u001b[37m\u001b[0m \u001b[1m0s\u001b[0m 643ms/step - auc: 0.7565 - binary_accuracy: 0.7110 - loss: 0.5605 - precision: 0.6413 - recall: 0.5180\n",
      "Epoch 34: val_loss improved from 0.53287 to 0.53188, saving model to d:\\Kuroya\\Kuliah\\sampah-multilabel-ai\\dataset\\checkpoints\\best_model.h5\n"
     ]
    },
    {
     "name": "stderr",
     "output_type": "stream",
     "text": [
      "WARNING:absl:You are saving your model as an HDF5 file via `model.save()` or `keras.saving.save_model(model)`. This file format is considered legacy. We recommend using instead the native Keras format, e.g. `model.save('my_model.keras')` or `keras.saving.save_model(model, 'my_model.keras')`. \n"
     ]
    },
    {
     "name": "stdout",
     "output_type": "stream",
     "text": [
      "\u001b[1m107/107\u001b[0m \u001b[32m━━━━━━━━━━━━━━━━━━━━\u001b[0m\u001b[37m\u001b[0m \u001b[1m84s\u001b[0m 788ms/step - auc: 0.7565 - binary_accuracy: 0.7110 - loss: 0.5605 - precision: 0.6412 - recall: 0.5181 - val_auc: 0.7916 - val_binary_accuracy: 0.7313 - val_loss: 0.5319 - val_precision: 0.7492 - val_recall: 0.4308\n",
      "Epoch 35/50\n",
      "\u001b[1m107/107\u001b[0m \u001b[32m━━━━━━━━━━━━━━━━━━━━\u001b[0m\u001b[37m\u001b[0m \u001b[1m0s\u001b[0m 619ms/step - auc: 0.7545 - binary_accuracy: 0.7083 - loss: 0.5646 - precision: 0.6403 - recall: 0.5154\n",
      "Epoch 35: val_loss did not improve from 0.53188\n",
      "\u001b[1m107/107\u001b[0m \u001b[32m━━━━━━━━━━━━━━━━━━━━\u001b[0m\u001b[37m\u001b[0m \u001b[1m80s\u001b[0m 751ms/step - auc: 0.7545 - binary_accuracy: 0.7083 - loss: 0.5645 - precision: 0.6402 - recall: 0.5154 - val_auc: 0.7918 - val_binary_accuracy: 0.7312 - val_loss: 0.5328 - val_precision: 0.7542 - val_recall: 0.4246\n",
      "Epoch 36/50\n",
      "\u001b[1m107/107\u001b[0m \u001b[32m━━━━━━━━━━━━━━━━━━━━\u001b[0m\u001b[37m\u001b[0m \u001b[1m0s\u001b[0m 627ms/step - auc: 0.7603 - binary_accuracy: 0.7097 - loss: 0.5578 - precision: 0.6376 - recall: 0.5211\n",
      "Epoch 36: val_loss did not improve from 0.53188\n",
      "\u001b[1m107/107\u001b[0m \u001b[32m━━━━━━━━━━━━━━━━━━━━\u001b[0m\u001b[37m\u001b[0m \u001b[1m82s\u001b[0m 765ms/step - auc: 0.7603 - binary_accuracy: 0.7097 - loss: 0.5578 - precision: 0.6377 - recall: 0.5211 - val_auc: 0.7909 - val_binary_accuracy: 0.7320 - val_loss: 0.5321 - val_precision: 0.7450 - val_recall: 0.4386\n",
      "Epoch 37/50\n",
      "\u001b[1m107/107\u001b[0m \u001b[32m━━━━━━━━━━━━━━━━━━━━\u001b[0m\u001b[37m\u001b[0m \u001b[1m0s\u001b[0m 635ms/step - auc: 0.7565 - binary_accuracy: 0.7068 - loss: 0.5612 - precision: 0.6357 - recall: 0.5218\n",
      "Epoch 37: val_loss improved from 0.53188 to 0.53130, saving model to d:\\Kuroya\\Kuliah\\sampah-multilabel-ai\\dataset\\checkpoints\\best_model.h5\n"
     ]
    },
    {
     "name": "stderr",
     "output_type": "stream",
     "text": [
      "WARNING:absl:You are saving your model as an HDF5 file via `model.save()` or `keras.saving.save_model(model)`. This file format is considered legacy. We recommend using instead the native Keras format, e.g. `model.save('my_model.keras')` or `keras.saving.save_model(model, 'my_model.keras')`. \n"
     ]
    },
    {
     "name": "stdout",
     "output_type": "stream",
     "text": [
      "\u001b[1m107/107\u001b[0m \u001b[32m━━━━━━━━━━━━━━━━━━━━\u001b[0m\u001b[37m\u001b[0m \u001b[1m85s\u001b[0m 791ms/step - auc: 0.7565 - binary_accuracy: 0.7068 - loss: 0.5611 - precision: 0.6357 - recall: 0.5219 - val_auc: 0.7930 - val_binary_accuracy: 0.7340 - val_loss: 0.5313 - val_precision: 0.7620 - val_recall: 0.4269\n",
      "Epoch 38/50\n",
      "\u001b[1m107/107\u001b[0m \u001b[32m━━━━━━━━━━━━━━━━━━━━\u001b[0m\u001b[37m\u001b[0m \u001b[1m0s\u001b[0m 640ms/step - auc: 0.7591 - binary_accuracy: 0.7107 - loss: 0.5567 - precision: 0.6429 - recall: 0.5164\n",
      "Epoch 38: val_loss improved from 0.53130 to 0.52806, saving model to d:\\Kuroya\\Kuliah\\sampah-multilabel-ai\\dataset\\checkpoints\\best_model.h5\n"
     ]
    },
    {
     "name": "stderr",
     "output_type": "stream",
     "text": [
      "WARNING:absl:You are saving your model as an HDF5 file via `model.save()` or `keras.saving.save_model(model)`. This file format is considered legacy. We recommend using instead the native Keras format, e.g. `model.save('my_model.keras')` or `keras.saving.save_model(model, 'my_model.keras')`. \n"
     ]
    },
    {
     "name": "stdout",
     "output_type": "stream",
     "text": [
      "\u001b[1m107/107\u001b[0m \u001b[32m━━━━━━━━━━━━━━━━━━━━\u001b[0m\u001b[37m\u001b[0m \u001b[1m84s\u001b[0m 787ms/step - auc: 0.7591 - binary_accuracy: 0.7107 - loss: 0.5567 - precision: 0.6429 - recall: 0.5164 - val_auc: 0.7957 - val_binary_accuracy: 0.7345 - val_loss: 0.5281 - val_precision: 0.7573 - val_recall: 0.4343\n",
      "Epoch 39/50\n",
      "\u001b[1m107/107\u001b[0m \u001b[32m━━━━━━━━━━━━━━━━━━━━\u001b[0m\u001b[37m\u001b[0m \u001b[1m0s\u001b[0m 606ms/step - auc: 0.7636 - binary_accuracy: 0.7115 - loss: 0.5547 - precision: 0.6427 - recall: 0.5261\n",
      "Epoch 39: val_loss improved from 0.52806 to 0.52787, saving model to d:\\Kuroya\\Kuliah\\sampah-multilabel-ai\\dataset\\checkpoints\\best_model.h5\n"
     ]
    },
    {
     "name": "stderr",
     "output_type": "stream",
     "text": [
      "WARNING:absl:You are saving your model as an HDF5 file via `model.save()` or `keras.saving.save_model(model)`. This file format is considered legacy. We recommend using instead the native Keras format, e.g. `model.save('my_model.keras')` or `keras.saving.save_model(model, 'my_model.keras')`. \n"
     ]
    },
    {
     "name": "stdout",
     "output_type": "stream",
     "text": [
      "\u001b[1m107/107\u001b[0m \u001b[32m━━━━━━━━━━━━━━━━━━━━\u001b[0m\u001b[37m\u001b[0m \u001b[1m80s\u001b[0m 744ms/step - auc: 0.7636 - binary_accuracy: 0.7115 - loss: 0.5547 - precision: 0.6427 - recall: 0.5261 - val_auc: 0.7959 - val_binary_accuracy: 0.7338 - val_loss: 0.5279 - val_precision: 0.7548 - val_recall: 0.4343\n",
      "Epoch 40/50\n",
      "\u001b[1m107/107\u001b[0m \u001b[32m━━━━━━━━━━━━━━━━━━━━\u001b[0m\u001b[37m\u001b[0m \u001b[1m0s\u001b[0m 633ms/step - auc: 0.7612 - binary_accuracy: 0.7107 - loss: 0.5568 - precision: 0.6405 - recall: 0.5248\n",
      "Epoch 40: val_loss did not improve from 0.52787\n",
      "\u001b[1m107/107\u001b[0m \u001b[32m━━━━━━━━━━━━━━━━━━━━\u001b[0m\u001b[37m\u001b[0m \u001b[1m83s\u001b[0m 777ms/step - auc: 0.7612 - binary_accuracy: 0.7107 - loss: 0.5568 - precision: 0.6406 - recall: 0.5248 - val_auc: 0.7945 - val_binary_accuracy: 0.7373 - val_loss: 0.5286 - val_precision: 0.7640 - val_recall: 0.4378\n",
      "Epoch 41/50\n",
      "\u001b[1m107/107\u001b[0m \u001b[32m━━━━━━━━━━━━━━━━━━━━\u001b[0m\u001b[37m\u001b[0m \u001b[1m0s\u001b[0m 623ms/step - auc: 0.7627 - binary_accuracy: 0.7117 - loss: 0.5558 - precision: 0.6457 - recall: 0.5226\n",
      "Epoch 41: val_loss did not improve from 0.52787\n",
      "\u001b[1m107/107\u001b[0m \u001b[32m━━━━━━━━━━━━━━━━━━━━\u001b[0m\u001b[37m\u001b[0m \u001b[1m81s\u001b[0m 756ms/step - auc: 0.7627 - binary_accuracy: 0.7117 - loss: 0.5558 - precision: 0.6457 - recall: 0.5226 - val_auc: 0.7953 - val_binary_accuracy: 0.7347 - val_loss: 0.5288 - val_precision: 0.7600 - val_recall: 0.4320\n",
      "Epoch 42/50\n",
      "\u001b[1m107/107\u001b[0m \u001b[32m━━━━━━━━━━━━━━━━━━━━\u001b[0m\u001b[37m\u001b[0m \u001b[1m0s\u001b[0m 616ms/step - auc: 0.7705 - binary_accuracy: 0.7179 - loss: 0.5443 - precision: 0.6529 - recall: 0.5184\n",
      "Epoch 42: val_loss improved from 0.52787 to 0.52669, saving model to d:\\Kuroya\\Kuliah\\sampah-multilabel-ai\\dataset\\checkpoints\\best_model.h5\n"
     ]
    },
    {
     "name": "stderr",
     "output_type": "stream",
     "text": [
      "WARNING:absl:You are saving your model as an HDF5 file via `model.save()` or `keras.saving.save_model(model)`. This file format is considered legacy. We recommend using instead the native Keras format, e.g. `model.save('my_model.keras')` or `keras.saving.save_model(model, 'my_model.keras')`. \n"
     ]
    },
    {
     "name": "stdout",
     "output_type": "stream",
     "text": [
      "\u001b[1m107/107\u001b[0m \u001b[32m━━━━━━━━━━━━━━━━━━━━\u001b[0m\u001b[37m\u001b[0m \u001b[1m81s\u001b[0m 755ms/step - auc: 0.7704 - binary_accuracy: 0.7179 - loss: 0.5444 - precision: 0.6529 - recall: 0.5184 - val_auc: 0.7970 - val_binary_accuracy: 0.7350 - val_loss: 0.5267 - val_precision: 0.7582 - val_recall: 0.4351\n",
      "Epoch 43/50\n",
      "\u001b[1m107/107\u001b[0m \u001b[32m━━━━━━━━━━━━━━━━━━━━\u001b[0m\u001b[37m\u001b[0m \u001b[1m0s\u001b[0m 647ms/step - auc: 0.7654 - binary_accuracy: 0.7137 - loss: 0.5546 - precision: 0.6485 - recall: 0.5310\n",
      "Epoch 43: val_loss did not improve from 0.52669\n",
      "\u001b[1m107/107\u001b[0m \u001b[32m━━━━━━━━━━━━━━━━━━━━\u001b[0m\u001b[37m\u001b[0m \u001b[1m88s\u001b[0m 821ms/step - auc: 0.7654 - binary_accuracy: 0.7137 - loss: 0.5545 - precision: 0.6485 - recall: 0.5309 - val_auc: 0.7949 - val_binary_accuracy: 0.7366 - val_loss: 0.5272 - val_precision: 0.7538 - val_recall: 0.4464\n",
      "Epoch 44/50\n",
      "\u001b[1m107/107\u001b[0m \u001b[32m━━━━━━━━━━━━━━━━━━━━\u001b[0m\u001b[37m\u001b[0m \u001b[1m0s\u001b[0m 962ms/step - auc: 0.7679 - binary_accuracy: 0.7158 - loss: 0.5493 - precision: 0.6483 - recall: 0.5344\n",
      "Epoch 44: val_loss improved from 0.52669 to 0.52630, saving model to d:\\Kuroya\\Kuliah\\sampah-multilabel-ai\\dataset\\checkpoints\\best_model.h5\n"
     ]
    },
    {
     "name": "stderr",
     "output_type": "stream",
     "text": [
      "WARNING:absl:You are saving your model as an HDF5 file via `model.save()` or `keras.saving.save_model(model)`. This file format is considered legacy. We recommend using instead the native Keras format, e.g. `model.save('my_model.keras')` or `keras.saving.save_model(model, 'my_model.keras')`. \n"
     ]
    },
    {
     "name": "stdout",
     "output_type": "stream",
     "text": [
      "\u001b[1m107/107\u001b[0m \u001b[32m━━━━━━━━━━━━━━━━━━━━\u001b[0m\u001b[37m\u001b[0m \u001b[1m121s\u001b[0m 1s/step - auc: 0.7679 - binary_accuracy: 0.7158 - loss: 0.5493 - precision: 0.6483 - recall: 0.5344 - val_auc: 0.7967 - val_binary_accuracy: 0.7359 - val_loss: 0.5263 - val_precision: 0.7564 - val_recall: 0.4406\n",
      "Epoch 45/50\n",
      "\u001b[1m107/107\u001b[0m \u001b[32m━━━━━━━━━━━━━━━━━━━━\u001b[0m\u001b[37m\u001b[0m \u001b[1m0s\u001b[0m 756ms/step - auc: 0.7723 - binary_accuracy: 0.7229 - loss: 0.5446 - precision: 0.6624 - recall: 0.5384\n",
      "Epoch 45: val_loss improved from 0.52630 to 0.52533, saving model to d:\\Kuroya\\Kuliah\\sampah-multilabel-ai\\dataset\\checkpoints\\best_model.h5\n"
     ]
    },
    {
     "name": "stderr",
     "output_type": "stream",
     "text": [
      "WARNING:absl:You are saving your model as an HDF5 file via `model.save()` or `keras.saving.save_model(model)`. This file format is considered legacy. We recommend using instead the native Keras format, e.g. `model.save('my_model.keras')` or `keras.saving.save_model(model, 'my_model.keras')`. \n"
     ]
    },
    {
     "name": "stdout",
     "output_type": "stream",
     "text": [
      "\u001b[1m107/107\u001b[0m \u001b[32m━━━━━━━━━━━━━━━━━━━━\u001b[0m\u001b[37m\u001b[0m \u001b[1m98s\u001b[0m 916ms/step - auc: 0.7723 - binary_accuracy: 0.7229 - loss: 0.5446 - precision: 0.6623 - recall: 0.5383 - val_auc: 0.7980 - val_binary_accuracy: 0.7373 - val_loss: 0.5253 - val_precision: 0.7604 - val_recall: 0.4418\n",
      "Epoch 46/50\n",
      "\u001b[1m107/107\u001b[0m \u001b[32m━━━━━━━━━━━━━━━━━━━━\u001b[0m\u001b[37m\u001b[0m \u001b[1m0s\u001b[0m 793ms/step - auc: 0.7714 - binary_accuracy: 0.7203 - loss: 0.5468 - precision: 0.6567 - recall: 0.5302\n",
      "Epoch 46: val_loss improved from 0.52533 to 0.52456, saving model to d:\\Kuroya\\Kuliah\\sampah-multilabel-ai\\dataset\\checkpoints\\best_model.h5\n"
     ]
    },
    {
     "name": "stderr",
     "output_type": "stream",
     "text": [
      "WARNING:absl:You are saving your model as an HDF5 file via `model.save()` or `keras.saving.save_model(model)`. This file format is considered legacy. We recommend using instead the native Keras format, e.g. `model.save('my_model.keras')` or `keras.saving.save_model(model, 'my_model.keras')`. \n"
     ]
    },
    {
     "name": "stdout",
     "output_type": "stream",
     "text": [
      "\u001b[1m107/107\u001b[0m \u001b[32m━━━━━━━━━━━━━━━━━━━━\u001b[0m\u001b[37m\u001b[0m \u001b[1m102s\u001b[0m 958ms/step - auc: 0.7714 - binary_accuracy: 0.7203 - loss: 0.5468 - precision: 0.6567 - recall: 0.5302 - val_auc: 0.7988 - val_binary_accuracy: 0.7360 - val_loss: 0.5246 - val_precision: 0.7583 - val_recall: 0.4390\n",
      "Epoch 47/50\n",
      "\u001b[1m107/107\u001b[0m \u001b[32m━━━━━━━━━━━━━━━━━━━━\u001b[0m\u001b[37m\u001b[0m \u001b[1m0s\u001b[0m 791ms/step - auc: 0.7740 - binary_accuracy: 0.7217 - loss: 0.5421 - precision: 0.6608 - recall: 0.5348\n",
      "Epoch 47: val_loss did not improve from 0.52456\n",
      "\u001b[1m107/107\u001b[0m \u001b[32m━━━━━━━━━━━━━━━━━━━━\u001b[0m\u001b[37m\u001b[0m \u001b[1m99s\u001b[0m 927ms/step - auc: 0.7740 - binary_accuracy: 0.7217 - loss: 0.5421 - precision: 0.6608 - recall: 0.5348 - val_auc: 0.7979 - val_binary_accuracy: 0.7363 - val_loss: 0.5256 - val_precision: 0.7562 - val_recall: 0.4425\n",
      "Epoch 48/50\n",
      "\u001b[1m107/107\u001b[0m \u001b[32m━━━━━━━━━━━━━━━━━━━━\u001b[0m\u001b[37m\u001b[0m \u001b[1m0s\u001b[0m 609ms/step - auc: 0.7683 - binary_accuracy: 0.7148 - loss: 0.5482 - precision: 0.6498 - recall: 0.5219\n",
      "Epoch 48: val_loss improved from 0.52456 to 0.52186, saving model to d:\\Kuroya\\Kuliah\\sampah-multilabel-ai\\dataset\\checkpoints\\best_model.h5\n"
     ]
    },
    {
     "name": "stderr",
     "output_type": "stream",
     "text": [
      "WARNING:absl:You are saving your model as an HDF5 file via `model.save()` or `keras.saving.save_model(model)`. This file format is considered legacy. We recommend using instead the native Keras format, e.g. `model.save('my_model.keras')` or `keras.saving.save_model(model, 'my_model.keras')`. \n"
     ]
    },
    {
     "name": "stdout",
     "output_type": "stream",
     "text": [
      "\u001b[1m107/107\u001b[0m \u001b[32m━━━━━━━━━━━━━━━━━━━━\u001b[0m\u001b[37m\u001b[0m \u001b[1m79s\u001b[0m 741ms/step - auc: 0.7683 - binary_accuracy: 0.7148 - loss: 0.5482 - precision: 0.6498 - recall: 0.5219 - val_auc: 0.8015 - val_binary_accuracy: 0.7376 - val_loss: 0.5219 - val_precision: 0.7629 - val_recall: 0.4402\n",
      "Epoch 49/50\n",
      "\u001b[1m107/107\u001b[0m \u001b[32m━━━━━━━━━━━━━━━━━━━━\u001b[0m\u001b[37m\u001b[0m \u001b[1m0s\u001b[0m 599ms/step - auc: 0.7709 - binary_accuracy: 0.7189 - loss: 0.5474 - precision: 0.6566 - recall: 0.5240\n",
      "Epoch 49: val_loss did not improve from 0.52186\n",
      "\u001b[1m107/107\u001b[0m \u001b[32m━━━━━━━━━━━━━━━━━━━━\u001b[0m\u001b[37m\u001b[0m \u001b[1m78s\u001b[0m 727ms/step - auc: 0.7709 - binary_accuracy: 0.7189 - loss: 0.5474 - precision: 0.6566 - recall: 0.5240 - val_auc: 0.7983 - val_binary_accuracy: 0.7373 - val_loss: 0.5244 - val_precision: 0.7573 - val_recall: 0.4453\n",
      "Epoch 50/50\n",
      "\u001b[1m107/107\u001b[0m \u001b[32m━━━━━━━━━━━━━━━━━━━━\u001b[0m\u001b[37m\u001b[0m \u001b[1m0s\u001b[0m 607ms/step - auc: 0.7773 - binary_accuracy: 0.7236 - loss: 0.5386 - precision: 0.6629 - recall: 0.5353\n",
      "Epoch 50: val_loss improved from 0.52186 to 0.52108, saving model to d:\\Kuroya\\Kuliah\\sampah-multilabel-ai\\dataset\\checkpoints\\best_model.h5\n"
     ]
    },
    {
     "name": "stderr",
     "output_type": "stream",
     "text": [
      "WARNING:absl:You are saving your model as an HDF5 file via `model.save()` or `keras.saving.save_model(model)`. This file format is considered legacy. We recommend using instead the native Keras format, e.g. `model.save('my_model.keras')` or `keras.saving.save_model(model, 'my_model.keras')`. \n"
     ]
    },
    {
     "name": "stdout",
     "output_type": "stream",
     "text": [
      "\u001b[1m107/107\u001b[0m \u001b[32m━━━━━━━━━━━━━━━━━━━━\u001b[0m\u001b[37m\u001b[0m \u001b[1m79s\u001b[0m 744ms/step - auc: 0.7773 - binary_accuracy: 0.7236 - loss: 0.5386 - precision: 0.6629 - recall: 0.5353 - val_auc: 0.8016 - val_binary_accuracy: 0.7388 - val_loss: 0.5211 - val_precision: 0.7586 - val_recall: 0.4496\n"
     ]
    }
   ],
   "source": [
    "print(\"\\n--- 12. Memulai Pelatihan Model ---\")\n",
    "history = model.fit(\n",
    "    X_train, y_train,\n",
    "    epochs=50,\n",
    "    batch_size=32,\n",
    "    validation_data=(X_val, y_val),\n",
    "    callbacks=callbacks\n",
    ")"
   ]
  },
  {
   "cell_type": "markdown",
   "metadata": {},
   "source": [
    "Visualisasi Hasil Pelatihan"
   ]
  },
  {
   "cell_type": "code",
   "execution_count": 8,
   "metadata": {},
   "outputs": [
    {
     "name": "stdout",
     "output_type": "stream",
     "text": [
      "\n",
      "--- 13. Memvisualisasikan Hasil Pelatihan ---\n"
     ]
    },
    {
     "data": {
      "image/png": "[encoded data removed]",
      "text/plain": [
       "<Figure size 1800x600 with 3 Axes>"
      ]
     },
     "metadata": {},
     "output_type": "display_data"
    }
   ],
   "source": [
    "# --- 13. Visualisasi Hasil Pelatihan ---\n",
    "print(\"\\n--- 13. Memvisualisasikan Hasil Pelatihan ---\")\n",
    "plt.figure(figsize=(18, 6)) # Ukuran figure diperbesar untuk 4 plot\n",
    "\n",
    "# Plot Loss\n",
    "plt.subplot(1, 3, 1) # Ubah menjadi 1 baris, 3 kolom\n",
    "plt.plot(history.history['loss'], label='Train Loss')\n",
    "plt.plot(history.history['val_loss'], label='Val Loss')\n",
    "plt.title('Training and Validation Loss')\n",
    "plt.xlabel('Epoch')\n",
    "plt.ylabel('Loss')\n",
    "plt.legend()\n",
    "plt.grid(True)\n",
    "\n",
    "# Plot Binary Accuracy\n",
    "plt.subplot(1, 3, 2)\n",
    "plt.plot(history.history['binary_accuracy'], label='Train Binary Accuracy')\n",
    "plt.plot(history.history['val_binary_accuracy'], label='Val Binary Accuracy')\n",
    "plt.title('Training and Validation Binary Accuracy')\n",
    "plt.xlabel('Epoch')\n",
    "plt.ylabel('Binary Accuracy')\n",
    "plt.legend()\n",
    "plt.grid(True)\n",
    "\n",
    "# Plot AUC\n",
    "plt.subplot(1, 3, 3)\n",
    "plt.plot(history.history['auc'], label='Train AUC')\n",
    "plt.plot(history.history['val_auc'], label='Val AUC')\n",
    "plt.title('Training and Validation AUC')\n",
    "plt.xlabel('Epoch')\n",
    "plt.ylabel('AUC')\n",
    "plt.legend()\n",
    "plt.grid(True)\n",
    "\n",
    "# Tambahan: Precision dan Recall biasanya lebih baik dihitung di luar pelatihan\n",
    "# karena membutuhkan thresholding. Namun, Anda bisa memplot jika Keras menyediakannya\n",
    "# secara langsung (tergantung versi TF)\n",
    "\n",
    "plt.tight_layout()\n",
    "plt.show()\n"
   ]
  },
  {
   "cell_type": "markdown",
   "metadata": {},
   "source": [
    "Evaluasi Model pada Test Set"
   ]
  },
  {
   "cell_type": "code",
   "execution_count": 9,
   "metadata": {},
   "outputs": [
    {
     "name": "stdout",
     "output_type": "stream",
     "text": [
      "\n",
      "--- 14. Mengevaluasi Model pada Test Set ---\n"
     ]
    },
    {
     "name": "stderr",
     "output_type": "stream",
     "text": [
      "WARNING:absl:Compiled the loaded model, but the compiled metrics have yet to be built. `model.compile_metrics` will be empty until you train or evaluate the model.\n"
     ]
    },
    {
     "name": "stdout",
     "output_type": "stream",
     "text": [
      "Model terbaik berhasil dimuat kembali.\n",
      "\u001b[1m24/24\u001b[0m \u001b[32m━━━━━━━━━━━━━━━━━━━━\u001b[0m\u001b[37m\u001b[0m \u001b[1m15s\u001b[0m 515ms/step - auc: 0.8069 - binary_accuracy: 0.7452 - loss: 0.5124 - precision: 0.7558 - recall: 0.4515\n",
      "Evaluasi pada Test Set:\n",
      "- loss: 0.5140\n",
      "- compile_metrics: 0.7425\n"
     ]
    }
   ],
   "source": [
    "# --- 14. Evaluasi Model pada Test Set ---\n",
    "print(\"\\n--- 14. Mengevaluasi Model pada Test Set ---\")\n",
    "try:\n",
    "    best_model = tf.keras.models.load_model(checkpoint_path)\n",
    "    print(\"Model terbaik berhasil dimuat kembali.\")\n",
    "    # Evaluasi dengan metrik yang lebih detail\n",
    "    evaluation_results = best_model.evaluate(X_test, y_test, verbose=1)\n",
    "    \n",
    "    # Map hasil evaluasi ke nama metrik\n",
    "    metrics_names = best_model.metrics_names\n",
    "    print(\"Evaluasi pada Test Set:\")\n",
    "    for name, value in zip(metrics_names, evaluation_results):\n",
    "        print(f\"- {name}: {value:.4f}\")\n",
    "\n",
    "except Exception as e:\n",
    "    print(f\"Gagal memuat model terbaik dari {checkpoint_path}: {e}\")\n",
    "    print(\"Mengevaluasi model terakhir yang dilatih (mungkin bukan yang terbaik).\")\n",
    "    evaluation_results = model.evaluate(X_test, y_test, verbose=1)\n",
    "    \n",
    "    metrics_names = model.metrics_names\n",
    "    print(\"Evaluasi pada Test Set:\")\n",
    "    for name, value in zip(metrics_names, evaluation_results):\n",
    "        print(f\"- {name}: {value:.4f}\")\n"
   ]
  },
  {
   "cell_type": "markdown",
   "metadata": {},
   "source": [
    "Contoh Prediksi dan Thresholding"
   ]
  },
  {
   "cell_type": "code",
   "execution_count": 10,
   "metadata": {},
   "outputs": [
    {
     "name": "stdout",
     "output_type": "stream",
     "text": [
      "\n",
      "--- 15. Contoh Prediksi dan Thresholding ---\n",
      "\u001b[1m1/1\u001b[0m \u001b[32m━━━━━━━━━━━━━━━━━━━━\u001b[0m\u001b[37m\u001b[0m \u001b[1m1s\u001b[0m 1s/step\n",
      "\n",
      "Probabilitas Prediksi (hasil Sigmoid):\n",
      "[[0.04486413 0.01531558 0.32820836 0.08935101 0.52897465 0.11348309\n",
      "  0.47171718 0.12326552]\n",
      " [0.3018602  0.40513718 0.8424283  0.09601977 0.29495496 0.11163418\n",
      "  0.2413671  0.26304004]\n",
      " [0.00790163 0.6276485  0.74088174 0.2814283  0.4380932  0.21336702\n",
      "  0.7139923  0.3071016 ]\n",
      " [0.14108919 0.5216994  0.21608625 0.43316814 0.21390639 0.0177521\n",
      "  0.06639918 0.05677871]\n",
      " [0.01934045 0.99637747 0.18516746 0.02739208 0.19791241 0.0264355\n",
      "  0.10436435 0.1419001 ]]\n",
      "\n",
      "Prediksi Setelah Thresholding (> 0.5):\n",
      "[[0 0 0 0 1 0 0 0]\n",
      " [0 0 1 0 0 0 0 0]\n",
      " [0 1 1 0 0 0 1 0]\n",
      " [0 1 0 0 0 0 0 0]\n",
      " [0 1 0 0 0 0 0 0]]\n",
      "\n",
      "Label Sebenarnya (True Labels):\n",
      "[[0. 0. 0. 0. 1. 0. 1. 0.]\n",
      " [0. 0. 1. 0. 0. 0. 0. 1.]\n",
      " [0. 1. 1. 0. 0. 0. 1. 0.]\n",
      " [0. 0. 0. 1. 1. 0. 0. 0.]\n",
      " [0. 1. 0. 1. 0. 0. 1. 0.]]\n",
      "\n",
      "Membandingkan True vs Prediksi (contoh 5 sampel):\n",
      "\n",
      "Sampel 1:\n",
      "  True Labels: ['metal', 'plastic']\n",
      "  Predicted Labels: ['metal']\n",
      "\n",
      "Sampel 2:\n",
      "  True Labels: ['glass', 'trash']\n",
      "  Predicted Labels: ['glass']\n",
      "\n",
      "Sampel 3:\n",
      "  True Labels: ['organik', 'glass', 'plastic']\n",
      "  Predicted Labels: ['organik', 'glass', 'plastic']\n",
      "\n",
      "Sampel 4:\n",
      "  True Labels: ['cardboard', 'metal']\n",
      "  Predicted Labels: ['organik']\n",
      "\n",
      "Sampel 5:\n",
      "  True Labels: ['organik', 'cardboard', 'plastic']\n",
      "  Predicted Labels: ['organik']\n",
      "\n",
      "--- Pelatihan Model Selesai ---\n",
      "Anda sekarang memiliki model yang dilatih dan dievaluasi dengan metrik multi-label yang lebih relevan.\n",
      "Langkah selanjutnya bisa berupa fine-tuning, eksperimen dengan hyperparameter, atau deployment.\n"
     ]
    }
   ],
   "source": [
    "# --- 15. Contoh Prediksi dan Thresholding (untuk Inferensi) ---\n",
    "print(\"\\n--- 15. Contoh Prediksi dan Thresholding ---\")\n",
    "# Ambil beberapa sampel dari test set untuk prediksi\n",
    "num_samples_predict = 5\n",
    "sample_indices = np.random.choice(len(X_test), num_samples_predict, replace=False)\n",
    "X_sample = X_test[sample_indices]\n",
    "y_true_sample = y_test[sample_indices]\n",
    "\n",
    "# Lakukan prediksi dengan model terbaik (jika berhasil dimuat)\n",
    "prediction_model = best_model if 'best_model' in locals() else model\n",
    "y_pred_proba = prediction_model.predict(X_sample)\n",
    "\n",
    "print(\"\\nProbabilitas Prediksi (hasil Sigmoid):\")\n",
    "print(y_pred_proba)\n",
    "\n",
    "# Terapkan threshold 0.5\n",
    "threshold = 0.5\n",
    "y_pred_thresholded = (y_pred_proba > threshold).astype(int)\n",
    "\n",
    "print(f\"\\nPrediksi Setelah Thresholding (> {threshold}):\")\n",
    "print(y_pred_thresholded)\n",
    "\n",
    "print(\"\\nLabel Sebenarnya (True Labels):\")\n",
    "print(y_true_sample)\n",
    "\n",
    "print(\"\\nMembandingkan True vs Prediksi (contoh 5 sampel):\")\n",
    "for i in range(num_samples_predict):\n",
    "    true_labels = [LABELS_FINAL[j] for j, val in enumerate(y_true_sample[i]) if val == 1]\n",
    "    predicted_labels = [LABELS_FINAL[j] for j, val in enumerate(y_pred_thresholded[i]) if val == 1]\n",
    "    \n",
    "    print(f\"\\nSampel {i+1}:\")\n",
    "    print(f\"  True Labels: {true_labels}\")\n",
    "    print(f\"  Predicted Labels: {predicted_labels}\")\n",
    "\n",
    "\n",
    "print(\"\\n--- Pelatihan Model Selesai ---\")\n",
    "print(\"Anda sekarang memiliki model yang dilatih dan dievaluasi dengan metrik multi-label yang lebih relevan.\")\n",
    "print(\"Langkah selanjutnya bisa berupa fine-tuning, eksperimen dengan hyperparameter, atau deployment.\")"
   ]
  }
 ],
 "metadata": {
  "kernelspec": {
   "display_name": "venv_ai_clean",
   "language": "python",
   "name": "python3"
  },
  "language_info": {
   "codemirror_mode": {
    "name": "ipython",
    "version": 3
   },
   "file_extension": ".py",
   "mimetype": "text/x-python",
   "name": "python",
   "nbconvert_exporter": "python",
   "pygments_lexer": "ipython3",
   "version": "3.11.0"
  }
 },
 "nbformat": 4,
 "nbformat_minor": 2
}
