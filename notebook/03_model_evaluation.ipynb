{
 "cells": [
  {
   "cell_type": "markdown",
   "metadata": {},
   "source": [
    "Library"
   ]
  },
  {
   "cell_type": "code",
   "execution_count": 1,
   "metadata": {},
   "outputs": [],
   "source": [
    "# --- Import Library yang Diperlukan ---\n",
    "import pandas as pd\n",
    "import numpy as np\n",
    "import matplotlib.pyplot as plt\n",
    "import os\n",
    "import json # Tambahan: untuk menyimpan JSON\n",
    "\n",
    "# Library TensorFlow dan Keras untuk memuat model\n",
    "import tensorflow as tf\n",
    "from tensorflow.keras.metrics import AUC, Precision, Recall, BinaryAccuracy # Metrik untuk multi-label\n",
    "\n",
    "# Library Scikit-learn untuk metrik evaluasi\n",
    "from sklearn.metrics import (\n",
    "    classification_report,\n",
    "    confusion_matrix,\n",
    "    ConfusionMatrixDisplay,\n",
    "    roc_auc_score,\n",
    "    f1_score,\n",
    "    precision_recall_curve,\n",
    "    PrecisionRecallDisplay\n",
    ")\n",
    "from sklearn.model_selection import train_test_split # Untuk split data (meskipun data sudah di-split sebelumnya, ini untuk konsistensi)"
   ]
  },
  {
   "cell_type": "markdown",
   "metadata": {},
   "source": [
    "Global Configuration"
   ]
  },
  {
   "cell_type": "code",
   "execution_count": null,
   "metadata": {},
   "outputs": [],
   "source": [
    "# --- 0. Konfigurasi Global (Pastikan Konsisten) ---\n",
    "# Ini harus sama persis dengan konfigurasi saat Anda melatih model\n",
    "LABELS_FINAL = ['battery', 'organik', 'glass', 'cardboard', 'metal', 'paper', 'plastic', 'trash']\n",
    "\n",
    "# Path Dasar untuk Dataset\n",
    "# Asumsi skrip/notebook ini berada di 'notebooks/' dan dataset di 'dataset/'\n",
    "BASE_DIR_DATASET = os.path.abspath(os.path.join(os.getcwd(), '..', 'dataset'))\n",
    "\n",
    "# Path ke data dan model yang sudah dilatih\n",
    "X_DATA_PATH = os.path.join(BASE_DIR_DATASET, 'X_data.npy')\n",
    "Y_LABELS_PATH = os.path.join(BASE_DIR_DATASET, 'Y_labels.npy')\n",
    "CHECKPOINT_PATH = os.path.join(BASE_DIR_DATASET, 'checkpoints', 'best_model.h5')\n",
    "\n",
    "IMG_SIZE = (224, 224) # Ukuran gambar target model\n",
    "RANDOM_SEED = 42 # Seed untuk reproduksibilitas split\n",
    "\n",
    "# Direktori untuk menyimpan hasil evaluasi\n",
    "EVAL_RESULTS_DIR = os.path.join(os.getcwd(), 'evaluation_results')\n",
    "os.makedirs(EVAL_RESULTS_DIR, exist_ok=True) # Pastikan direktori ada"
   ]
  }
 ],
 "metadata": {
  "kernelspec": {
   "display_name": "venv_ai_clean",
   "language": "python",
   "name": "python3"
  },
  "language_info": {
   "codemirror_mode": {
    "name": "ipython",
    "version": 3
   },
   "file_extension": ".py",
   "mimetype": "text/x-python",
   "name": "python",
   "nbconvert_exporter": "python",
   "pygments_lexer": "ipython3",
   "version": "3.11.0"
  }
 },
 "nbformat": 4,
 "nbformat_minor": 2
}
